{
 "cells": [
  {
   "cell_type": "code",
   "execution_count": null,
   "source": [
    "# This imports a parser for xml through tei.  Parsing metadata\r\n",
    "# The lxml XML toolkit is a Pythonic binding for the C libraries libxml2 and libxslt. It is unique in that it combines the speed and XML feature completeness of these libraries with the simplicity of a native Python API, mostly compatible but superior to the well-known ElementTree API. The latest release works with all CPython versions from 2.7 to 3.9. See the introduction for more information about background and goals of the lxml project. Some common questions are answered in the FAQ.\r\n",
    "import lxml.etree\r\n",
    "# Will need o download shrew file from github to run demo\r\n",
    "tree = lxml.etree.parse('Shrew.xml')\r\n",
    "\r\n",
    "print(tree)"
   ],
   "outputs": [],
   "metadata": {}
  },
  {
   "cell_type": "code",
   "execution_count": null,
   "source": [
    "# Prints xml data as a string\r\n",
    "print(lxml.etree.tostring(tree).decode()[0:500])"
   ],
   "outputs": [],
   "metadata": {}
  },
  {
   "cell_type": "code",
   "execution_count": null,
   "source": [
    "# Roots and children are the elemets within the data tree.  Root is the tei itself.\r\n",
    "print(tree.getroot().tag)\r\n",
    "\r\n",
    "print(len(tree.getroot()))\r\n",
    "\r\n",
    "for child in tree.getroot():\r\n",
    "    print(child.tag, child.attrib)\r\n",
    "    for nested in child:\r\n",
    "        print(nested.tag, nested.attrib)"
   ],
   "outputs": [],
   "metadata": {}
  },
  {
   "cell_type": "code",
   "execution_count": null,
   "source": [
    "# this removes tei header and addition info, allowing access to actal text\r\n",
    "start = tree.getroot()[1][1]\r\n",
    "print(start.tag)\r\n",
    "for child in start:\r\n",
    "    print (child.tag)"
   ],
   "outputs": [],
   "metadata": {}
  },
  {
   "cell_type": "code",
   "execution_count": null,
   "source": [
    "#this won't work - need the namespace (as shown above)\r\n",
    "\r\n",
    "print(tree.getroot().find('title'))\r\n",
    "\r\n",
    "#using a namespace map\r\n",
    "# save the namespace map to nav tree so we can find what we are looking for\r\n",
    "\r\n",
    "NSMAP = {'tei': 'http://www.tei-c.org/ns/1.0'}\r\n",
    "print(tree.getroot().find('.//tei:title', namespaces=NSMAP).text)"
   ],
   "outputs": [],
   "metadata": {}
  },
  {
   "cell_type": "code",
   "execution_count": null,
   "source": [
    "# Builds a charater relationship map between characters\r\n",
    "# node is an identified speaker, edges is when another follows that speaker\r\n",
    "def character_network(tree):\r\n",
    "    \"\"\"Construct a character interaction network.\r\n",
    "\r\n",
    "    Construct a character interaction network for Shakespeare texts in\r\n",
    "    the Folger Digital Text collection. Character interaction networks\r\n",
    "    are constructed on the basis of successive speaker turns in the texts,\r\n",
    "    and edges between speakers are created when their utterances follow\r\n",
    "    one another.\r\n",
    "\r\n",
    "    Arguments:\r\n",
    "        tree: An lxml.ElementTree instance representing one of the XML\r\n",
    "            files in the Folger Shakespeare collection.\r\n",
    "\r\n",
    "    Returns:\r\n",
    "        A character interaction network represented as a weighted,\r\n",
    "        undirected NetworkX Graph.\r\n",
    "\r\n",
    "    \"\"\"\r\n",
    "    # This creates the graph\r\n",
    "    G = nx.Graph()\r\n",
    "    # extract a list of speaker turns for each scene in a play\r\n",
    "    for scene in tree.iterfind('.//tei:div2[@type=\"scene\"]', NSMAP):\r\n",
    "        speakers = scene.findall('.//tei:sp', NSMAP)\r\n",
    "        # iterate over the sequence of speaker turns...\r\n",
    "        for i in range(len(speakers) - 1):\r\n",
    "            # ... and extract pairs of adjacent speakers\r\n",
    "            try:\r\n",
    "                speaker_i = speakers[i].attrib['who'].split('_')[0].replace('#', '')\r\n",
    "                speaker_j = speakers[i + 1].attrib['who'].split('_')[0].replace('#', '')\r\n",
    "                # if the interaction between two speakers has already\r\n",
    "                # been attested, update their interaction count\r\n",
    "                if G.has_edge(speaker_i, speaker_j):\r\n",
    "                    G[speaker_i][speaker_j]['weight'] += 1\r\n",
    "                # else add an edge between speaker i and j to the graph\r\n",
    "                else:\r\n",
    "                    G.add_edge(speaker_i, speaker_j, weight=1)\r\n",
    "            except KeyError:\r\n",
    "                continue\r\n",
    "    return G\r\n",
    "\r\n",
    "# Speakers will be nodes, edges will be the weighted counting oftheir interactions"
   ],
   "outputs": [],
   "metadata": {}
  },
  {
   "cell_type": "code",
   "execution_count": null,
   "source": [
    "# This is the math part.  No further details\r\n",
    "import networkx as nx\r\n",
    "import matplotlib.pyplot as plt\r\n",
    "\r\n",
    "G = character_network(tree.getroot())\r\n",
    "print(f\"N nodes = {G.number_of_nodes()}, N edges = {G.number_of_edges()}\")"
   ],
   "outputs": [],
   "metadata": {}
  },
  {
   "cell_type": "code",
   "execution_count": null,
   "source": [
    "import collections\r\n",
    "\r\n",
    "interactions = collections.Counter()\r\n",
    "\r\n",
    "for speaker_i, speaker_j, data in G.edges(data=True):\r\n",
    "    interaction_count = data['weight']\r\n",
    "    interactions[speaker_i] += interaction_count\r\n",
    "    interactions[speaker_j] += interaction_count\r\n",
    "\r\n",
    "nodesizes = [interactions[speaker] * 5 for speaker in G]"
   ],
   "outputs": [],
   "metadata": {}
  },
  {
   "cell_type": "code",
   "execution_count": null,
   "source": [
    "# Create an empty figure of size 15x15\r\n",
    "fig = plt.figure(figsize=(15, 15))\r\n",
    "# Compute the positions of the nodes using the spring layout algorithm\r\n",
    "pos = nx.spring_layout(G, k=0.5, iterations=200)\r\n",
    "# Then, add the edges to the visualization\r\n",
    "nx.draw_networkx_edges(G, pos, alpha=0.4)\r\n",
    "# Subsequently, add the weighted nodes to the visualization\r\n",
    "nx.draw_networkx_nodes(G, pos, node_size=nodesizes, alpha=0.4)\r\n",
    "# Finally, add the labels (i.e. the speaker IDs) to the visualization\r\n",
    "nx.draw_networkx_labels(G, pos)\r\n",
    "plt.axis('off');"
   ],
   "outputs": [],
   "metadata": {}
  },
  {
   "cell_type": "code",
   "execution_count": null,
   "source": [
    "\r\n",
    "\r\n",
    "import json\r\n",
    "from networkx.readwrite import json_graph\r\n",
    "\r\n",
    "with open('shrew.json', 'w') as f:\r\n",
    "    json.dump(json_graph.node_link_data(G), f)\r\n",
    "\r\n",
    "with open('shrew.json') as f:\r\n",
    "    d = json.load(f)\r\n",
    "\r\n",
    "G = json_graph.node_link_graph(d)\r\n",
    "print(f\"Graph with {len(G.nodes())} nodes and {len(G.edges())} edges.\")\r\n",
    "\r\n"
   ],
   "outputs": [],
   "metadata": {}
  }
 ],
 "metadata": {
  "orig_nbformat": 4,
  "language_info": {
   "name": "python",
   "version": "3.8.3"
  },
  "kernelspec": {
   "name": "python3",
   "display_name": "Python 3.8.3 64-bit (conda)"
  },
  "interpreter": {
   "hash": "0da26090e65dfd4cdfd0711879594308b8318542197956b2adc85226ab711834"
  }
 },
 "nbformat": 4,
 "nbformat_minor": 2
}