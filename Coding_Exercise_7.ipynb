{
 "cells": [
  {
   "cell_type": "markdown",
   "source": [
    "# Exercise Seven Starter: Textual Analysis\r\n",
    "\r\n",
    "In this exercise, I will not be providing the subheadings. Work from our code examples and the textbooks to construct a well-documented notebook that provides a model for initial textual analysis of a multi-document corpus.\r\n",
    "\r\n",
    "Your workflow should:\r\n",
    "- 1 Import at least three documents you would like to compare (from text files, or using another format for a challenge.)\r\n",
    "- 2 Preprocess the text and create a tokenized corpus from the text of the imported documents.\r\n",
    "- 3 Create a document term matrix to enable comparative textual analysis across the full set of documents\r\n",
    "- 4 Chart at least one comparison between the documents, using word frequency to map the text\r\n",
    "- 5 Calculate the Euclidean distance between the documents, using two key words as the point of comparison \r\n",
    "\r\n",
    "As a bonus challenge, consider trying one of the other types of distance modeling described in the text."
   ],
   "metadata": {}
  },
  {
   "cell_type": "markdown",
   "source": [
    "# Step One\r\n",
    "Since it is nearing Halloween, I decided to analyze three classic horror novels:  <i>Frankenstein</i> by Mary Shelley, <i>Dracula</i> by Bram Stoker, and <i>Dr. Jekyll and Mr. Hyde</i> by Robert Louis Stevenson.  All three were available on Project Gutenberg.  I scraped the text from the site and saved them as txt files in VSC, using the author's last name as the file name.  I then imported all three files into this notebook."
   ],
   "metadata": {}
  },
  {
   "cell_type": "code",
   "execution_count": 10,
   "source": [
    "# 1\r\n",
    "import nltk\r\n",
    "import nltk.tokenize\r\n",
    "\r\n",
    "# download the most recent punkt package\r\n",
    "nltk.download('punkt', quiet=True)\r\n",
    "\r\n",
    "corpus = [\"shelley.txt\",\"stoker.txt\",\"stevenson.txt\"]\r\n",
    "titles = [\"Frankenstein\", \"Dracula\", \"Jekyll And Hyde\"]\r\n",
    "documents = []\r\n",
    "for url in corpus:\r\n",
    "    f = open(url, encoding='utf-8')\r\n",
    "    text = f.read()\r\n",
    "    documents.append(text)\r\n",
    "print(documents[1][0:100])"
   ],
   "outputs": [
    {
     "output_type": "stream",
     "name": "stdout",
     "text": [
      "The Project Gutenberg eBook of Dracula, by Bram Stoker\n",
      "\n",
      "This eBook is for the use of anyone anywher\n"
     ]
    }
   ],
   "metadata": {}
  },
  {
   "cell_type": "markdown",
   "source": [
    "# Step Two\r\n",
    "The following three cells preprocessed the text and created a tokenized corpus from the text of the imported documents.  The first cell imported re and dealt with punctuation.  The second converted the text to lower case and tokenized the language.  The third cell tested the tokens."
   ],
   "metadata": {}
  },
  {
   "cell_type": "code",
   "execution_count": 11,
   "source": [
    "# 2\r\n",
    "import re\r\n",
    "\r\n",
    "\r\n",
    "PUNCT_RE = re.compile(r'[^\\w\\s]+$')\r\n",
    "\r\n",
    "\r\n",
    "def is_punct(string):\r\n",
    "    \"\"\"Check if STRING is a punctuation marker or a sequence of\r\n",
    "       punctuation markers.\r\n",
    "    \"\"\"\r\n",
    "    return PUNCT_RE.match(string) is not None"
   ],
   "outputs": [],
   "metadata": {}
  },
  {
   "cell_type": "code",
   "execution_count": 12,
   "source": [
    "# 2\r\n",
    "def preprocess_text(text, language, lowercase=True):\r\n",
    "    \"\"\"Preprocess a text.\r\n",
    "\r\n",
    "    Perform a text preprocessing procedure, which transforms a string\r\n",
    "    object into a list of word tokens without punctuation markers.\r\n",
    "\r\n",
    "    \"\"\"\r\n",
    "    if lowercase:\r\n",
    "        text = text.lower()\r\n",
    "    tokens = nltk.tokenize.word_tokenize(text, language=language)\r\n",
    "    tokens = [token for token in tokens if not is_punct(token)]\r\n",
    "    return tokens"
   ],
   "outputs": [],
   "metadata": {}
  },
  {
   "cell_type": "code",
   "execution_count": 13,
   "source": [
    "# 2\r\n",
    "tokenized = []\r\n",
    "for text in documents:\r\n",
    "    tokenized.append(preprocess_text(text, \"english\"))\r\n",
    "\r\n",
    "print(tokenized[0][11])"
   ],
   "outputs": [
    {
     "output_type": "stream",
     "name": "stdout",
     "text": [
      "this\n"
     ]
    }
   ],
   "metadata": {}
  },
  {
   "cell_type": "markdown",
   "source": [
    "# Step 3\r\n",
    "This next cell created a document term matrix to enable comparative textual analysis across the full set of documents.  It converted all the tokenized words into a searchable vocabulary.  "
   ],
   "metadata": {}
  },
  {
   "cell_type": "code",
   "execution_count": 14,
   "source": [
    "# 3\r\n",
    "def extract_vocabulary(tokenized_corpus, min_count=1, max_count=float('inf')):\r\n",
    "    \"\"\"Extract a vocabulary from a tokenized corpus.\r\n",
    "\r\n",
    "    Arguments:\r\n",
    "        tokenized_corpus (list): a tokenized corpus represented, list\r\n",
    "            of lists of strings.\r\n",
    "        min_count (int, optional): the minimum occurrence count of a\r\n",
    "            vocabulary item in the corpus.\r\n",
    "        max_count (int, optional): the maximum occurrence count of a\r\n",
    "            vocabulary item in the corpus. Defaults to inf.\r\n",
    "\r\n",
    "    Returns:\r\n",
    "        list: An alphabetically ordered list of unique words in the\r\n",
    "            corpus, of which the frequencies adhere to the specified\r\n",
    "            minimum and maximum count.\r\n",
    "\r\n",
    "    Examples:\r\n",
    "        >>> corpus = [['the', 'man', 'love', 'man', 'the'],\r\n",
    "                      ['the', 'love', 'book', 'wise', 'drama'],\r\n",
    "                      ['a', 'story', 'book', 'drama']]\r\n",
    "        >>> extract_vocabulary(corpus, min_count=2)\r\n",
    "        ['book', 'drama', 'love', 'man', 'the']\r\n",
    "\r\n",
    "    \"\"\"\r\n",
    "    vocabulary = collections.Counter()\r\n",
    "    for document in tokenized_corpus:\r\n",
    "        vocabulary.update(document)\r\n",
    "    vocabulary = {word for word, count in vocabulary.items()\r\n",
    "                  if count >= min_count and count <= max_count}\r\n",
    "    return sorted(vocabulary)\r\n",
    "import collections\r\n",
    "vocabulary = extract_vocabulary(tokenized, min_count=2)\r\n",
    "print(vocabulary[0:100])"
   ],
   "outputs": [
    {
     "output_type": "stream",
     "name": "stdout",
     "text": [
      "[\"'ad\", \"'all\", \"'are\", \"'arf-quid\", \"'armony\", \"'as-is\", \"'at\", \"'ave\", \"'bloofer\", \"'d\", \"'ead\", \"'elped\", \"'em\", \"'ere\", \"'here\", \"'igh\", \"'im\", \"'is\", \"'isself\", \"'ittin\", \"'ll\", \"'m\", \"'my\", \"'no\", \"'ole\", \"'ome\", \"'ouse\", \"'ow\", \"'owl\", \"'rats\", \"'re\", \"'s\", \"'that\", \"'ve\", \"'yes\", \"'you\", '1', '1.', '1.a', '1.b', '1.c', '1.d', '1.e', '1.e.1', '1.e.2', '1.e.3', '1.e.4', '1.e.5', '1.e.6', '1.e.7', '1.e.8', '1.e.9', '1.f', '1.f.1', '1.f.2', '1.f.3', '1.f.4', '1.f.5', '1.f.6', '10', '10:30', '11', '11th', '12', '12th', '13', '14', '15', '1500', '16', '17', '17—', '17—.', '18', '18th', '18—', '19', '2', '2.', '20', '2001', '2021', '21', '22', '23', '24', '25', '29', '3', '3.', '30', '31', '4', '4.', '5', '5,000', '5.', '50', '501', '596-1887.']\n"
     ]
    }
   ],
   "metadata": {}
  },
  {
   "cell_type": "markdown",
   "source": [
    "# Step Four\r\n",
    "With the ability to compare words, the next two cells compared the instances of “monster” and “blood.”  I chose these words because all three works prominently feature monsters and a relatively high degree of blood related activity. \r\n",
    "\r\n",
    "I was surprised to find no use of the word monster in Stevenson’s work, as this is a story of a man becoming a monster.  I expected a high frequency of monster in Shelley’s work, as that is how Frankenstein’s creation is referred too.  Also, no surprise, <i>Dracula</i> had the most instances of blood.\r\n",
    "\r\n",
    "In the second cell for this step, I created a chart to visualize these frequencies.  \r\n"
   ],
   "metadata": {}
  },
  {
   "cell_type": "code",
   "execution_count": 15,
   "source": [
    "# 4\r\n",
    "def corpus2dtm(tokenized_corpus, vocabulary):\r\n",
    "    \"\"\"Transform a tokenized corpus into a document-term matrix.\r\n",
    "\r\n",
    "    Arguments:\r\n",
    "        tokenized_corpus (list): a tokenized corpus as a list of\r\n",
    "        lists of strings. vocabulary (list): An list of unique words.\r\n",
    "\r\n",
    "    Returns:\r\n",
    "        list: A list of lists representing the frequency of each term\r\n",
    "              in `vocabulary` for each document in the corpus.\r\n",
    "\r\n",
    "    Examples:\r\n",
    "        >>> tokenized_corpus = [['the', 'man', 'man', 'smart'],\r\n",
    "                                ['a', 'the', 'man' 'love'],\r\n",
    "                                ['love', 'book', 'journey']]\r\n",
    "        >>> vocab = ['book', 'journey', 'man', 'love']\r\n",
    "        >>> corpus2dtm(tokenized_corpus, vocabulary)\r\n",
    "        [[0, 0, 2, 0], [0, 0, 1, 1], [1, 1, 0, 1]]\r\n",
    "\r\n",
    "    \"\"\"\r\n",
    "    document_term_matrix = []\r\n",
    "    for document in tokenized_corpus:\r\n",
    "        document_counts = collections.Counter(document)\r\n",
    "        row = [document_counts[word] for word in vocabulary]\r\n",
    "        document_term_matrix.append(row)\r\n",
    "    return document_term_matrix\r\n",
    "\r\n",
    "import numpy as np\r\n",
    "\r\n",
    "document_term_matrix = np.array(corpus2dtm(tokenized, vocabulary))\r\n",
    "monster = vocabulary.index('monster')\r\n",
    "blood = vocabulary.index('blood')\r\n",
    "\r\n",
    "monster_counts = document_term_matrix[:, monster]\r\n",
    "blood_counts = document_term_matrix[:, blood]\r\n",
    "print(\"Monster: \" + str(monster_counts))\r\n",
    "print(\"Blood: \" + str(blood_counts))"
   ],
   "outputs": [
    {
     "output_type": "stream",
     "name": "stdout",
     "text": [
      "Monster: [30 23  0]\n",
      "Blood: [ 19 108   9]\n"
     ]
    }
   ],
   "metadata": {}
  },
  {
   "cell_type": "code",
   "execution_count": 16,
   "source": [
    "# 4 visualization\r\n",
    "import matplotlib.pyplot as plt\r\n",
    "\r\n",
    "x = np.arange(len(titles))\r\n",
    "width = 0.3\r\n",
    "\r\n",
    "fig, ax = plt.subplots()\r\n",
    "rects1 = ax.bar(x - width/2, monster_counts, width, label='Monster')\r\n",
    "rects2 = ax.bar(x + width/2, blood_counts, width, label='Blood')\r\n",
    "\r\n",
    "ax.set_ylabel('Word Count')\r\n",
    "ax.set_title('Frequency of Monster and Blood in Classic Horror Novels')\r\n",
    "ax.set_xticks(x)\r\n",
    "ax.set_xticklabels(titles)\r\n",
    "ax.legend()\r\n",
    "\r\n",
    "fig.tight_layout()\r\n",
    "\r\n",
    "plt.show()"
   ],
   "outputs": [
    {
     "output_type": "display_data",
     "data": {
      "image/png": "[encoded data removed]",
      "text/plain": [
       "<Figure size 432x288 with 1 Axes>"
      ]
     },
     "metadata": {
      "needs_background": "light"
     }
    }
   ],
   "metadata": {}
  },
  {
   "cell_type": "markdown",
   "source": [
    "# Step 5\r\n",
    "For this step, I calculated the Euclidean distance between the documents’ use of “monster” and “blood.”  First, I defined the terms for each array, again using the authors’ last names.  In the second cell, mathematical magic generated the Euclidean distance of the chosen terms between the three works."
   ],
   "metadata": {}
  },
  {
   "cell_type": "code",
   "execution_count": 17,
   "source": [
    "# 5\r\n",
    "shelley = np.array([monster_counts[0], blood_counts[0]])\r\n",
    "stoker = np.array([monster_counts[1], blood_counts[1]])\r\n",
    "stevenson = np.array([monster_counts[2], blood_counts[2]])"
   ],
   "outputs": [],
   "metadata": {}
  },
  {
   "cell_type": "code",
   "execution_count": 19,
   "source": [
    "# 5'\r\n",
    "def euclidean_distance(a, b):\r\n",
    "    \"\"\"Compute the Euclidean distance between two vectors.\r\n",
    "\r\n",
    "    Note: ``numpy.linalg.norm(a - b)`` performs the\r\n",
    "    same calculation using a slightly faster method.\r\n",
    "\r\n",
    "    Arguments:\r\n",
    "        a (numpy.ndarray): a vector of floats or ints.\r\n",
    "        b (numpy.ndarray): a vector of floats or ints.\r\n",
    "\r\n",
    "    Returns:\r\n",
    "        float: The euclidean distance between vector a and b.\r\n",
    "\r\n",
    "    Examples:\r\n",
    "        >>> import numpy as np\r\n",
    "        >>> a = np.array([1, 4, 2, 8])\r\n",
    "        >>> b = np.array([2, 1, 4, 7])\r\n",
    "        >>> round(euclidean_distance(a, b), 2)\r\n",
    "        3.87\r\n",
    "\r\n",
    "    \"\"\"\r\n",
    "    return np.sqrt(np.sum((a - b) ** 2))\r\n",
    "\r\n",
    "shelleystoker = euclidean_distance(shelley, stoker)\r\n",
    "print(f'Shelley - Stoker: {shelleystoker:.2f}')\r\n",
    "\r\n",
    "shelleystevenson = euclidean_distance(shelley, stevenson)\r\n",
    "print(f'Shelley - Stevenson: {shelleystevenson:.2f}')\r\n",
    "\r\n",
    "stokerstevenson = euclidean_distance(stoker, stevenson)\r\n",
    "print(f'Stoker - Stevenson: {stokerstevenson:.2f}')"
   ],
   "outputs": [
    {
     "output_type": "stream",
     "name": "stdout",
     "text": [
      "Shelley - Stoker: 89.27\n",
      "Shelley - Stevenson: 31.62\n",
      "Stoker - Stevenson: 101.64\n"
     ]
    }
   ],
   "metadata": {}
  }
 ],
 "metadata": {
  "orig_nbformat": 4,
  "language_info": {
   "name": "python",
   "version": "3.8.3",
   "mimetype": "text/x-python",
   "codemirror_mode": {
    "name": "ipython",
    "version": 3
   },
   "pygments_lexer": "ipython3",
   "nbconvert_exporter": "python",
   "file_extension": ".py"
  },
  "kernelspec": {
   "name": "python3",
   "display_name": "Python 3.8.3 64-bit (conda)"
  },
  "interpreter": {
   "hash": "0da26090e65dfd4cdfd0711879594308b8318542197956b2adc85226ab711834"
  }
 },
 "nbformat": 4,
 "nbformat_minor": 2
}