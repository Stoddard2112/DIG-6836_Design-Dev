{
 "cells": [
  {
   "cell_type": "code",
   "execution_count": 4,
   "source": [
    "# This program assumes you have completed exercise three, and we will be using the text file from that exercise in this demo. In the take home assignment, you will be combining the parts and making use of functions to structure a more complete text processing pipeline. The sample for processing, dogememe.txt, is available in the repository\r\n",
    "\r\n",
    "f = open('CEx3_FMJ.txt', 'r')\r\n",
    "text = f.read()\r\n",
    "f.close()\r\n",
    "\r\n",
    "word_bag = text.split()\r\n",
    "print(word_bag[0:100])"
   ],
   "outputs": [
    {
     "output_type": "stream",
     "name": "stdout",
     "text": [
      "['Andrew', 'Pollard\\\\r\\\\n', '\\\\r\\\\n', '\\\\r\\\\n', '\\\\r\\\\n', '\\\\r\\\\n', '\\\\r\\\\n', 'Starburst\\\\r\\\\n', '\\\\r\\\\n', '\\\\r\\\\n', '\\\\r\\\\n', '\\\\r\\\\n', '\\\\r\\\\n', '\\\\r\\\\n', '\\\\r\\\\n', '\\\\r\\\\n', '\\\\r\\\\n', '\\\\r\\\\n', '\\\\r\\\\n', '\\\\r\\\\n', '\\\\r\\\\n', '\\\\r\\\\n', 'Sep', '24,', '2020\\\\r\\\\n', '\\\\r\\\\n', '\\\\r\\\\n', '\\\\r\\\\n', 'A', 'hard-hitting', 'movie', 'laced', 'with', 'moments', 'of', 'dark', 'humour', 'and', 'brimming', 'with', 'social', 'commentary,', 'Full', 'Metal', 'Jacket', 'is', 'viewed', 'as', 'one', 'of', 'the', 'all-time', 'great', 'war', 'movie.\\\\r\\\\n', '\\\\r\\\\n', '\\\\r\\\\n', '\\\\r\\\\n', '\\\\r\\\\n', '\\\\r\\\\n', '\\\\r\\\\n', '\\\\r\\\\n', 'Full', 'Review\\\\r\\\\n', '\\\\r\\\\n\\\\r\\\\n', '\\\\r\\\\n', '|', 'Original', 'Score:', '5/5\\\\r\\\\n', '\\\\r\\\\n', '\\\\r\\\\n', '\\\\r\\\\n', '\\\\r\\\\n', '\\\\r\\\\n\\\\r\\\\n\\\\r\\\\n\\\\r\\\\n', '\\\\r\\\\n', '\\\\r\\\\n', '\\\\r\\\\n', '\\\\r\\\\n', '\\\\r\\\\n', '\\\\r\\\\n', '\\\\r\\\\n', '\\\\r\\\\n', '\\\\r\\\\n', 'Allison', 'Rose\\\\r\\\\n', '\\\\r\\\\n', '\\\\r\\\\n', '\\\\r\\\\n', '\\\\r\\\\n', '\\\\r\\\\n', 'FlickDirect\\\\r\\\\n', '\\\\r\\\\n', '\\\\r\\\\n', '\\\\r\\\\n', '\\\\r\\\\n', '\\\\r\\\\n', '\\\\r\\\\n', '\\\\r\\\\n', '\\\\r\\\\n']\n"
     ]
    }
   ],
   "metadata": {}
  },
  {
   "cell_type": "code",
   "execution_count": 5,
   "source": [
    "text = text.lower()\r\n",
    "word_bag = text.split()\r\n",
    "print(word_bag[0:100])"
   ],
   "outputs": [
    {
     "output_type": "stream",
     "name": "stdout",
     "text": [
      "['andrew', 'pollard\\\\r\\\\n', '\\\\r\\\\n', '\\\\r\\\\n', '\\\\r\\\\n', '\\\\r\\\\n', '\\\\r\\\\n', 'starburst\\\\r\\\\n', '\\\\r\\\\n', '\\\\r\\\\n', '\\\\r\\\\n', '\\\\r\\\\n', '\\\\r\\\\n', '\\\\r\\\\n', '\\\\r\\\\n', '\\\\r\\\\n', '\\\\r\\\\n', '\\\\r\\\\n', '\\\\r\\\\n', '\\\\r\\\\n', '\\\\r\\\\n', '\\\\r\\\\n', 'sep', '24,', '2020\\\\r\\\\n', '\\\\r\\\\n', '\\\\r\\\\n', '\\\\r\\\\n', 'a', 'hard-hitting', 'movie', 'laced', 'with', 'moments', 'of', 'dark', 'humour', 'and', 'brimming', 'with', 'social', 'commentary,', 'full', 'metal', 'jacket', 'is', 'viewed', 'as', 'one', 'of', 'the', 'all-time', 'great', 'war', 'movie.\\\\r\\\\n', '\\\\r\\\\n', '\\\\r\\\\n', '\\\\r\\\\n', '\\\\r\\\\n', '\\\\r\\\\n', '\\\\r\\\\n', '\\\\r\\\\n', 'full', 'review\\\\r\\\\n', '\\\\r\\\\n\\\\r\\\\n', '\\\\r\\\\n', '|', 'original', 'score:', '5/5\\\\r\\\\n', '\\\\r\\\\n', '\\\\r\\\\n', '\\\\r\\\\n', '\\\\r\\\\n', '\\\\r\\\\n\\\\r\\\\n\\\\r\\\\n\\\\r\\\\n', '\\\\r\\\\n', '\\\\r\\\\n', '\\\\r\\\\n', '\\\\r\\\\n', '\\\\r\\\\n', '\\\\r\\\\n', '\\\\r\\\\n', '\\\\r\\\\n', '\\\\r\\\\n', 'allison', 'rose\\\\r\\\\n', '\\\\r\\\\n', '\\\\r\\\\n', '\\\\r\\\\n', '\\\\r\\\\n', '\\\\r\\\\n', 'flickdirect\\\\r\\\\n', '\\\\r\\\\n', '\\\\r\\\\n', '\\\\r\\\\n', '\\\\r\\\\n', '\\\\r\\\\n', '\\\\r\\\\n', '\\\\r\\\\n', '\\\\r\\\\n']\n"
     ]
    }
   ],
   "metadata": {}
  },
  {
   "cell_type": "code",
   "execution_count": 6,
   "source": [
    "f = open('CEx3_FMJ.txt', 'r')\r\n",
    "text = f.read()\r\n",
    "f.close()\r\n",
    "\r\n",
    "wtext = text.lower()\r\n",
    "# re = regualr expressions. Importing the library of re.  They are how we understadn the relations of text.  Using this here to only retunr alphanumeric characters in our txt file. Notice, it did not get rid of all the problem content (r's and n's).\r\n",
    "import re\r\n",
    "word_bag = re.compile(r'\\W+', re.UNICODE).split(text)\r\n",
    "print(word_bag[0:100])"
   ],
   "outputs": [
    {
     "output_type": "stream",
     "name": "stdout",
     "text": [
      "['Andrew', 'Pollard', 'r', 'n', 'r', 'n', 'r', 'n', 'r', 'n', 'r', 'n', 'r', 'n', 'Starburst', 'r', 'n', 'r', 'n', 'r', 'n', 'r', 'n', 'r', 'n', 'r', 'n', 'r', 'n', 'r', 'n', 'r', 'n', 'r', 'n', 'r', 'n', 'r', 'n', 'r', 'n', 'r', 'n', 'r', 'n', 'Sep', '24', '2020', 'r', 'n', 'r', 'n', 'r', 'n', 'r', 'n', 'A', 'hard', 'hitting', 'movie', 'laced', 'with', 'moments', 'of', 'dark', 'humour', 'and', 'brimming', 'with', 'social', 'commentary', 'Full', 'Metal', 'Jacket', 'is', 'viewed', 'as', 'one', 'of', 'the', 'all', 'time', 'great', 'war', 'movie', 'r', 'n', 'r', 'n', 'r', 'n', 'r', 'n', 'r', 'n', 'r', 'n', 'r', 'n', 'r']\n"
     ]
    }
   ],
   "metadata": {}
  }
 ],
 "metadata": {
  "orig_nbformat": 4,
  "language_info": {
   "name": "python",
   "version": "3.7.6",
   "mimetype": "text/x-python",
   "codemirror_mode": {
    "name": "ipython",
    "version": 3
   },
   "pygments_lexer": "ipython3",
   "nbconvert_exporter": "python",
   "file_extension": ".py"
  },
  "kernelspec": {
   "name": "python3",
   "display_name": "Python 3.7.6 64-bit (conda)"
  },
  "interpreter": {
   "hash": "384b16392d5df87b45fa68fd804fdd570b449e149e441c1270eb35604a8982f7"
  }
 },
 "nbformat": 4,
 "nbformat_minor": 2
}