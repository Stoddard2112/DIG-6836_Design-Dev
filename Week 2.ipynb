{
 "cells": [
  {
   "cell_type": "code",
   "execution_count": null,
   "source": [
    "# create a helloworld.html file in write mode\r\n",
    "f = open('helloworld.html','w')\r\n",
    "\r\n",
    "# initialize a variable and store a string of contacts for our html file\r\n",
    "message = \"\"\"<html>\r\n",
    "<head></head>\r\n",
    "<body><p>Hello World!</p></body>\r\n",
    "</html>\"\"\"\r\n",
    "\r\n",
    "# overwriting the html file contents with our message\r\n",
    "f.write(message)\r\n",
    "\r\n",
    "f.close()"
   ],
   "outputs": [],
   "metadata": {}
  }
 ],
 "metadata": {
  "kernelspec": {
   "name": "python3",
   "display_name": "Python 3.7.4 64-bit ('base': conda)"
  },
  "language_info": {
   "codemirror_mode": {
    "name": "ipython",
    "version": 3
   },
   "file_extension": ".py",
   "mimetype": "text/x-python",
   "name": "python",
   "nbconvert_exporter": "python",
   "pygments_lexer": "ipython3",
   "version": "3.7.4"
  },
  "interpreter": {
   "hash": "e2d1c99ca4c0b7ee549427df8185e132c5f2e97e9e975fe23504af2c5e67d6f7"
  }
 },
 "nbformat": 4,
 "nbformat_minor": 4
}