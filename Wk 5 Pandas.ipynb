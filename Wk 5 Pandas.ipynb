{
 "cells": [
  {
   "cell_type": "markdown",
   "source": [
    "# Pandas Demo\r\n",
    "\r\n",
    "This demo works through importing pandas and using it to research a csv file.  CSV file must be found and imported."
   ],
   "metadata": {}
  },
  {
   "cell_type": "code",
   "execution_count": null,
   "source": [
    "# Review class recording to find CSV on kaggle.  Most open CSV in VSC prior to importing.  Is there a military awards csv, MoH?\r\n",
    "\r\n",
    "# Iports pandas and changes the name to shorthand pd\r\n",
    "import pandas as pd\r\n",
    "\r\n",
    "#create a dataframe object from a csv\r\n",
    "# Takes already sorted CSV data and resorts for our use.\r\n",
    "# tell pandas to read a file name within the () and \r\n",
    "oscar_df = pd.read_csv('the_oscar_award.csv', delimiter=\",\")\r\n",
    "\r\n",
    "oscar_df"
   ],
   "outputs": [],
   "metadata": {}
  },
  {
   "cell_type": "code",
   "execution_count": null,
   "source": [
    "oscar_df.head(10)"
   ],
   "outputs": [],
   "metadata": {}
  },
  {
   "cell_type": "code",
   "execution_count": null,
   "source": [
    "print(oscar_df['year_ceremony'].min())\r\n",
    "print(oscar_df['year_film'].mean())\r\n",
    "print(oscar_df['year_film'].max())"
   ],
   "outputs": [],
   "metadata": {}
  },
  {
   "cell_type": "code",
   "execution_count": null,
   "source": [
    "# Gives arandom sample of data within the provided range\r\n",
    "oscar_df.sample(10)"
   ],
   "outputs": [],
   "metadata": {}
  },
  {
   "cell_type": "code",
   "execution_count": null,
   "source": [
    "oscar_df.describe(include='all')"
   ],
   "outputs": [],
   "metadata": {}
  },
  {
   "cell_type": "code",
   "execution_count": null,
   "source": [
    "oscar_df['film'].value_counts()"
   ],
   "outputs": [],
   "metadata": {}
  },
  {
   "cell_type": "code",
   "execution_count": null,
   "source": [
    "oscar_df['name'].value_counts()[:10]"
   ],
   "outputs": [],
   "metadata": {}
  },
  {
   "cell_type": "code",
   "execution_count": null,
   "source": [
    "# Visualization.  Interested in film, 15 vaule counts, plots out as a bar horizontl, gives title of plot.  Pandas is great at making good looking visualizations.  Refer to pandas website.\r\n",
    "oscar_df['film'].value_counts()[:15].plot(kind=\"barh\", title=\"Most Oscar Nominated Films\")"
   ],
   "outputs": [],
   "metadata": {}
  },
  {
   "cell_type": "code",
   "execution_count": null,
   "source": [
    "# Utility function for running queries on data.  In this case searching awards without a film attached, ex lifetime achievement awards.\r\n",
    "oscar_df['film'] = oscar_df['film'].fillna('No title available')"
   ],
   "outputs": [],
   "metadata": {}
  },
  {
   "cell_type": "code",
   "execution_count": null,
   "source": [
    "# This queries all films with the word woman in the title.\r\n",
    "oscar_df[oscar_df['film'].str.contains('Woman')]"
   ],
   "outputs": [],
   "metadata": {}
  }
 ],
 "metadata": {
  "orig_nbformat": 4,
  "language_info": {
   "name": "python",
   "version": "3.7.6",
   "mimetype": "text/x-python",
   "codemirror_mode": {
    "name": "ipython",
    "version": 3
   },
   "pygments_lexer": "ipython3",
   "nbconvert_exporter": "python",
   "file_extension": ".py"
  },
  "kernelspec": {
   "name": "python3",
   "display_name": "Python 3.7.6 64-bit (conda)"
  },
  "interpreter": {
   "hash": "384b16392d5df87b45fa68fd804fdd570b449e149e441c1270eb35604a8982f7"
  }
 },
 "nbformat": 4,
 "nbformat_minor": 2
}