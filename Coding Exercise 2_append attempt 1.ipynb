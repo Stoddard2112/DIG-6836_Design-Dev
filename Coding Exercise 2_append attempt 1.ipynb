{
 "cells": [
  {
   "cell_type": "code",
   "execution_count": 1,
   "source": [
    "# boiler plate code - set up convos with urs using a library\r\n",
    "import urllib.request, urllib.error, urllib.parse\r\n",
    "\r\n",
    "# setting up url - I chose to scrape Tomatometer reviews of the light hearted comedy Full Metal Jacket\r\n",
    "url = 'https://www.rottentomatoes.com/m/full_metal_jacket/reviews?intcmp=rt-scorecard_tomatometer-review'\r\n",
    "\r\n",
    "# boilerplate code for requesting a webpage using url\r\n",
    "response = urllib.request.urlopen(url)\r\n",
    "webContent = response.read()\r\n",
    "\r\n",
    "print(webContent[0:1000])"
   ],
   "outputs": [
    {
     "output_type": "stream",
     "name": "stdout",
     "text": [
      "b'<!DOCTYPE html>\\n<html lang=\"en\"\\n      dir=\"ltr\"\\n      xmlns:fb=\"http://www.facebook.com/2008/fbml\"\\n      xmlns:og=\"http://opengraphprotocol.org/schema/\">\\n\\n    <head prefix=\"og: http://ogp.me/ns# flixstertomatoes: http://ogp.me/ns/apps/flixstertomatoes#\">\\n        \\n            <script src=\"/assets/pizza-pie/javascripts/bundles/roma/rt-common.js?single\"></script>\\n        \\n        <!-- salt=lay-def-02-juRm -->\\n        <meta http-equiv=\"Content-Type\" content=\"text/html; charset=utf-8\" />\\n        <meta http-equiv=\"x-ua-compatible\" content=\"ie=edge\">\\n        <meta name=\"viewport\" content=\"width=device-width, initial-scale=1\">\\n\\n        <title>Full Metal Jacket - Movie Reviews</title>\\n        <meta name=\"description\" content=\"Rotten Tomatoes, home of the Tomatometer, is the most trusted measurement of quality for Movies & TV. The definitive site for Reviews, Trailers, Showtimes, and Tickets\">\\n\\n        \\n            <link rel=\"canonical\" href=\"https://www.rottentomatoes.com/m/full_metal_jacket/re'\n"
     ]
    }
   ],
   "metadata": {}
  },
  {
   "cell_type": "code",
   "execution_count": 2,
   "source": [
    "# Second, save the website you are interested in as a file. Name that file appropriately to the content - for instance, something like \"reviewarchive.html\" would make sense if you are pulling reviews of a movie or book. After you run it, check that the file looks like it has the content you need. If it doesn't, try to figure out what went wrong.\r\n",
    "\r\n",
    "url = 'https://www.rottentomatoes.com/m/full_metal_jacket/reviews?intcmp=rt-scorecard_tomatometer-review'\r\n",
    "\r\n",
    "response = urllib.request.urlopen(url)\r\n",
    "webContent = response.read()\r\n",
    "\r\n",
    "f = open('TMReviewsFMJ.html', 'wb')\r\n",
    "f.write(webContent)\r\n",
    "f.close()"
   ],
   "outputs": [],
   "metadata": {}
  },
  {
   "cell_type": "code",
   "execution_count": 3,
   "source": [
    "# Third, append another page of connected content: you'll need to use a modified version of the previous code, changing the URL, and using \"append binary\" to add to the file.\r\n",
    "\r\n",
    "# boiler plate code - set up convos with urs using a library\r\n",
    "import urllib.request, urllib.error, urllib.parse\r\n",
    "\r\n",
    "# appending url - I'm appending Audience Score reviews to my initial scrape\r\n",
    "url = 'https://www.rottentomatoes.com/m/full_metal_jacket/reviews?type=user&intcmp=rt-scorecard_audience-score-reviewsw'\r\n",
    "\r\n",
    "# boilerplate code for requesting a webpage using url\r\n",
    "response = urllib.request.urlopen(url)\r\n",
    "webContent = response.read()\r\n",
    "\r\n",
    "print(webContent[0:1000])"
   ],
   "outputs": [
    {
     "output_type": "stream",
     "name": "stdout",
     "text": [
      "b'<!DOCTYPE html>\\n<html lang=\"en\"\\n      dir=\"ltr\"\\n      xmlns:fb=\"http://www.facebook.com/2008/fbml\"\\n      xmlns:og=\"http://opengraphprotocol.org/schema/\">\\n\\n    <head prefix=\"og: http://ogp.me/ns# flixstertomatoes: http://ogp.me/ns/apps/flixstertomatoes#\">\\n        \\n            <script src=\"/assets/pizza-pie/javascripts/bundles/roma/rt-common.js?single\"></script>\\n        \\n        <!-- salt=lay-def-02-juRm -->\\n        <meta http-equiv=\"Content-Type\" content=\"text/html; charset=utf-8\" />\\n        <meta http-equiv=\"x-ua-compatible\" content=\"ie=edge\">\\n        <meta name=\"viewport\" content=\"width=device-width, initial-scale=1\">\\n\\n        <title>Full Metal Jacket - Movie Reviews</title>\\n        <meta name=\"description\" content=\"Rotten Tomatoes, home of the Tomatometer, is the most trusted measurement of quality for Movies & TV. The definitive site for Reviews, Trailers, Showtimes, and Tickets\">\\n\\n        \\n            <link rel=\"canonical\" href=\"https://www.rottentomatoes.com/m/full_metal_jacket/re'\n"
     ]
    }
   ],
   "metadata": {}
  },
  {
   "cell_type": "code",
   "execution_count": null,
   "source": [
    "url = 'https://www.rottentomatoes.com/m/full_metal_jacket/reviews?type=user&intcmp=rt-scorecard_audience-score-reviewsww'\r\n",
    "\r\n",
    "response = urllib.request.urlopen(url)\r\n",
    "webContent = response.read()\r\n",
    "\r\n",
    "f = open('TMReviewsFMJ.html', 'wb')\r\n",
    "f.write('\\n' + 'TMReviewsFMJ')\r\n",
    "f.close()"
   ],
   "outputs": [],
   "metadata": {}
  }
 ],
 "metadata": {
  "kernelspec": {
   "name": "python3",
   "display_name": "Python   (conda)"
  },
  "language_info": {
   "name": "python",
   "version": "3.7.6",
   "mimetype": "text/x-python",
   "codemirror_mode": {
    "name": "ipython",
    "version": 3
   },
   "pygments_lexer": "ipython3",
   "nbconvert_exporter": "python",
   "file_extension": ".py"
  },
  "interpreter": {
   "hash": "384b16392d5df87b45fa68fd804fdd570b449e149e441c1270eb35604a8982f7"
  }
 },
 "nbformat": 4,
 "nbformat_minor": 4
}