{
 "cells": [
  {
   "cell_type": "markdown",
   "source": [
    "# Exercise Six: Structured Data with Beautiful Soup and Pandas\r\n",
    "\r\n",
    "This week, you'll be revisiting some of the exercises we started this semester, but with more powerful tools. Instead of pulling raw HTML from a website, you'll use the structured data scraping methods to draw a dictionary of data from the web using Beautiful Soup, then parse and display it using Pandas. \r\n",
    "\r\n",
    "As with last week, fill in the documentation as you go through each stage. Make sure to pick a site with a clear data structure for your analysis."
   ],
   "metadata": {}
  },
  {
   "cell_type": "markdown",
   "source": [
    "## Stage One: Import the libraries and Scrape your Page"
   ],
   "metadata": {}
  },
  {
   "cell_type": "code",
   "execution_count": 5,
   "source": [
    "# This cell imports the requied libraries \r\n",
    "import requests\r\n",
    "from bs4 import BeautifulSoup\r\n",
    "import pandas as pd\r\n",
    "# For demo usability, I chose to stay with meta critic and scrap data from the Legend of Zelda: The Ocarina of TIme\r\n",
    "url = 'https://www.metacritic.com/game/nintendo-64/the-legend-of-zelda-ocarina-of-time/user-reviews'\r\n",
    "\r\n",
    "user_agent = {'User-agent': 'Mozilla/5.0'}\r\n",
    "response = requests.get(url, headers = user_agent)\r\n",
    "\r\n",
    "soup = BeautifulSoup(response.text, 'html.parser')"
   ],
   "outputs": [],
   "metadata": {}
  },
  {
   "cell_type": "markdown",
   "source": [
    "## Stage Two: Define an Empty Dictionary Reflecting the Data Categories"
   ],
   "metadata": {}
  },
  {
   "cell_type": "code",
   "execution_count": 6,
   "source": [
    "# Creates the headings on a spreadsheet\r\n",
    "review_dict = {'name':[], 'date':[], 'rating':[], 'review':[]}"
   ],
   "outputs": [],
   "metadata": {}
  },
  {
   "cell_type": "markdown",
   "source": [
    "## Stage Three: Loop through and Store Structured Data"
   ],
   "metadata": {}
  },
  {
   "cell_type": "code",
   "execution_count": 9,
   "source": [
    "#look for review_content tags since every user review has this tag\r\n",
    " \r\n",
    "# Big to small sections.  This looks in the boxes named review_contnet.  If data is outside the windows of that box, it will not pull it, as long as it has a name, date, rating review (Catagories labeld in previous step) in the class.  Envision filling in the columns of a spreadsheet based on step two's headings\r\n",
    "for review in soup.find_all('div', class_='review_content'): \r\n",
    "    if review.find('div', class_='name') == None:\r\n",
    "        break \r\n",
    "    review_dict['name'].append(review.find('div', class_='name').find('a').text)\r\n",
    "    review_dict['date'].append(review.find('div', class_='date').text)\r\n",
    "    review_dict['rating'].append(review.find('div', class_='review_grade').find_all('div')[0].text)\r\n",
    "    if review.find('span', class_='blurb blurb_expanded'): \r\n",
    "        review_dict['review'].append(review.find('span', class_='blurb blurb_expanded').text)\r\n",
    "        print(review.find('span', class_='blurb blurb_expanded').text)\r\n",
    "    # FOr blurbs that link/open full text of review\r\n",
    "    elif review.find('div',class_='review_body').find('span') == None:\r\n",
    "        review_dict['review'].append('No review text.')\r\n",
    "        print(\"No review\")\r\n",
    "    else:\r\n",
    "        review_dict['review'].append(review.find('div',class_='review_body').find('span').text)\r\n",
    "        # Prints the reviews to see that what we did worked.\r\n",
    "        print(review.find('div',class_='review_body').find('span').text)"
   ],
   "outputs": [
    {
     "output_type": "stream",
     "name": "stdout",
     "text": [
      "I'm one of those people who think that this is the greatest game of all time, no matter what quality games are out now or will be out ever. This is just plain the best game I've ever played. Why? Partly because it was the first good game I've actually played. When I first got a Nintendo 64 I was considerably young, and yet every game I played I thought was absolutely horrible. All I had were simple objective games, and as a child I thought they were hard and pointless. Then one day Ocarina of Time was brought home and I at first refused to play it. So I watched my father play it for a while, and straight away it was something entirely new and different. Also at the time, it was the most real (to me at least). What brought me in was the ability to actually explore and get to know people, even if the people you talked to all repeated the same things over and over no matter how many times you talked to them, but it didn't matter. This game was something new and exciting to me, and to this day I get this good old nostalgic feeling whenever I play it. It has one of the greatest stories of all time for a video game and was one of the first to create its own sort of universe and it was one of the first 3D environment game where you can see in all 360 degrees (after Mario 64 that is). Plus to this day people are still discovering new secrets to the game and so many in-depth theories arise from this title alone based upon this game that keep it interesting. The characters feel like characters and the visuals are some of the most cinematic of its time. The gameplay is also very fun, which of course is one of the most important things and there are very involving puzzles that are simple enough in appears but very complex when you get down to it. There is so much that I could say about this game, but sometimes even looking back, I'm at a loss of words at how awesome this game is.\n",
      "Anyone who gives the masterpiece below a 7 or an 8 is either just here to hate on the astounding zelda franchise, doesn't know a DAMN good game or is insane. The dungeons are interesting and unique, the characters are interesting and have personality, the story is highly engaging, the combat is varied, fluid, and fun, the items are amazing, there are a plethora of interesting side quests and collectibles, and considering the fact that this game was made in 1998 the graphics are amazing. The only real downside is that the game is somewhat linear and you can't continue on after beating the final boss, but that doesn't detract from the huge amount of fun I had playing this game. This has to be one of if not the best games ever made just as the others have said.\n",
      "I won't bore you with what everyone is already saying about how amazing this game is.  But if you're on the fence about whether to give this classic a try, go read IGN's review.\n",
      "Everything in OoT is so near at perfection, its really no wonder that this game has such a huge fanbase and is so highly rated among players and critics.\n"
     ]
    },
    {
     "output_type": "error",
     "ename": "AttributeError",
     "evalue": "'NoneType' object has no attribute 'text'",
     "traceback": [
      "\u001b[1;31m---------------------------------------------------------------------------\u001b[0m",
      "\u001b[1;31mAttributeError\u001b[0m                            Traceback (most recent call last)",
      "\u001b[1;32m~\\AppData\\Local\\Temp/ipykernel_32656/1925989412.py\u001b[0m in \u001b[0;36m<module>\u001b[1;34m\u001b[0m\n\u001b[0;32m      5\u001b[0m     \u001b[1;32mif\u001b[0m \u001b[0mreview\u001b[0m\u001b[1;33m.\u001b[0m\u001b[0mfind\u001b[0m\u001b[1;33m(\u001b[0m\u001b[1;34m'div'\u001b[0m\u001b[1;33m,\u001b[0m \u001b[0mclass_\u001b[0m\u001b[1;33m=\u001b[0m\u001b[1;34m'name'\u001b[0m\u001b[1;33m)\u001b[0m \u001b[1;33m==\u001b[0m \u001b[1;32mNone\u001b[0m\u001b[1;33m:\u001b[0m\u001b[1;33m\u001b[0m\u001b[1;33m\u001b[0m\u001b[0m\n\u001b[0;32m      6\u001b[0m         \u001b[1;32mbreak\u001b[0m\u001b[1;33m\u001b[0m\u001b[1;33m\u001b[0m\u001b[0m\n\u001b[1;32m----> 7\u001b[1;33m     \u001b[0mreview_dict\u001b[0m\u001b[1;33m[\u001b[0m\u001b[1;34m'name'\u001b[0m\u001b[1;33m]\u001b[0m\u001b[1;33m.\u001b[0m\u001b[0mappend\u001b[0m\u001b[1;33m(\u001b[0m\u001b[0mreview\u001b[0m\u001b[1;33m.\u001b[0m\u001b[0mfind\u001b[0m\u001b[1;33m(\u001b[0m\u001b[1;34m'div'\u001b[0m\u001b[1;33m,\u001b[0m \u001b[0mclass_\u001b[0m\u001b[1;33m=\u001b[0m\u001b[1;34m'name'\u001b[0m\u001b[1;33m)\u001b[0m\u001b[1;33m.\u001b[0m\u001b[0mfind\u001b[0m\u001b[1;33m(\u001b[0m\u001b[1;34m'a'\u001b[0m\u001b[1;33m)\u001b[0m\u001b[1;33m.\u001b[0m\u001b[0mtext\u001b[0m\u001b[1;33m)\u001b[0m\u001b[1;33m\u001b[0m\u001b[1;33m\u001b[0m\u001b[0m\n\u001b[0m\u001b[0;32m      8\u001b[0m     \u001b[0mreview_dict\u001b[0m\u001b[1;33m[\u001b[0m\u001b[1;34m'date'\u001b[0m\u001b[1;33m]\u001b[0m\u001b[1;33m.\u001b[0m\u001b[0mappend\u001b[0m\u001b[1;33m(\u001b[0m\u001b[0mreview\u001b[0m\u001b[1;33m.\u001b[0m\u001b[0mfind\u001b[0m\u001b[1;33m(\u001b[0m\u001b[1;34m'div'\u001b[0m\u001b[1;33m,\u001b[0m \u001b[0mclass_\u001b[0m\u001b[1;33m=\u001b[0m\u001b[1;34m'date'\u001b[0m\u001b[1;33m)\u001b[0m\u001b[1;33m.\u001b[0m\u001b[0mtext\u001b[0m\u001b[1;33m)\u001b[0m\u001b[1;33m\u001b[0m\u001b[1;33m\u001b[0m\u001b[0m\n\u001b[0;32m      9\u001b[0m     \u001b[0mreview_dict\u001b[0m\u001b[1;33m[\u001b[0m\u001b[1;34m'rating'\u001b[0m\u001b[1;33m]\u001b[0m\u001b[1;33m.\u001b[0m\u001b[0mappend\u001b[0m\u001b[1;33m(\u001b[0m\u001b[0mreview\u001b[0m\u001b[1;33m.\u001b[0m\u001b[0mfind\u001b[0m\u001b[1;33m(\u001b[0m\u001b[1;34m'div'\u001b[0m\u001b[1;33m,\u001b[0m \u001b[0mclass_\u001b[0m\u001b[1;33m=\u001b[0m\u001b[1;34m'review_grade'\u001b[0m\u001b[1;33m)\u001b[0m\u001b[1;33m.\u001b[0m\u001b[0mfind_all\u001b[0m\u001b[1;33m(\u001b[0m\u001b[1;34m'div'\u001b[0m\u001b[1;33m)\u001b[0m\u001b[1;33m[\u001b[0m\u001b[1;36m0\u001b[0m\u001b[1;33m]\u001b[0m\u001b[1;33m.\u001b[0m\u001b[0mtext\u001b[0m\u001b[1;33m)\u001b[0m\u001b[1;33m\u001b[0m\u001b[1;33m\u001b[0m\u001b[0m\n",
      "\u001b[1;31mAttributeError\u001b[0m: 'NoneType' object has no attribute 'text'"
     ]
    }
   ],
   "metadata": {}
  },
  {
   "cell_type": "markdown",
   "source": [
    "I don't understadnd the above error, especially since it printed the requested data."
   ],
   "metadata": {}
  },
  {
   "cell_type": "markdown",
   "source": [
    "## Stage Four: Convert from Dictionary to DataFrame and Display"
   ],
   "metadata": {}
  },
  {
   "cell_type": "code",
   "execution_count": 8,
   "source": [
    "# Takes from the Beautiful Soup scrape into a pd spreadsheet, nice and structured as a dataframe\r\n",
    "ac_reviews = pd.DataFrame(review_dict)\r\n",
    "# Prints the new dataframe \r\n",
    "ac_reviews\r\n"
   ],
   "outputs": [
    {
     "output_type": "execute_result",
     "data": {
      "text/html": [
       "<div>\n",
       "<style scoped>\n",
       "    .dataframe tbody tr th:only-of-type {\n",
       "        vertical-align: middle;\n",
       "    }\n",
       "\n",
       "    .dataframe tbody tr th {\n",
       "        vertical-align: top;\n",
       "    }\n",
       "\n",
       "    .dataframe thead th {\n",
       "        text-align: right;\n",
       "    }\n",
       "</style>\n",
       "<table border=\"1\" class=\"dataframe\">\n",
       "  <thead>\n",
       "    <tr style=\"text-align: right;\">\n",
       "      <th></th>\n",
       "      <th>name</th>\n",
       "      <th>date</th>\n",
       "      <th>rating</th>\n",
       "      <th>review</th>\n",
       "    </tr>\n",
       "  </thead>\n",
       "  <tbody>\n",
       "    <tr>\n",
       "      <th>0</th>\n",
       "      <td>doodlerman</td>\n",
       "      <td>Jun  9, 2011</td>\n",
       "      <td>10</td>\n",
       "      <td>I'm one of those people who think that this is...</td>\n",
       "    </tr>\n",
       "    <tr>\n",
       "      <th>1</th>\n",
       "      <td>Jacody</td>\n",
       "      <td>Nov 25, 2010</td>\n",
       "      <td>10</td>\n",
       "      <td>Anyone who gives the masterpiece below a 7 or ...</td>\n",
       "    </tr>\n",
       "    <tr>\n",
       "      <th>2</th>\n",
       "      <td>Kaistlin</td>\n",
       "      <td>Apr 25, 2011</td>\n",
       "      <td>10</td>\n",
       "      <td>I won't bore you with what everyone is already...</td>\n",
       "    </tr>\n",
       "    <tr>\n",
       "      <th>3</th>\n",
       "      <td>SirCaestus</td>\n",
       "      <td>Jun 12, 2011</td>\n",
       "      <td>10</td>\n",
       "      <td>Everything in OoT is so near at perfection, it...</td>\n",
       "    </tr>\n",
       "  </tbody>\n",
       "</table>\n",
       "</div>"
      ],
      "text/plain": [
       "         name          date rating  \\\n",
       "0  doodlerman  Jun  9, 2011     10   \n",
       "1      Jacody  Nov 25, 2010     10   \n",
       "2    Kaistlin  Apr 25, 2011     10   \n",
       "3  SirCaestus  Jun 12, 2011     10   \n",
       "\n",
       "                                              review  \n",
       "0  I'm one of those people who think that this is...  \n",
       "1  Anyone who gives the masterpiece below a 7 or ...  \n",
       "2  I won't bore you with what everyone is already...  \n",
       "3  Everything in OoT is so near at perfection, it...  "
      ]
     },
     "metadata": {},
     "execution_count": 8
    }
   ],
   "metadata": {}
  },
  {
   "cell_type": "markdown",
   "source": [
    "## Stage Five: Plot some Aspect of the Data"
   ],
   "metadata": {}
  },
  {
   "cell_type": "markdown",
   "source": [
    "## Bonus Stage: Add On\r\n",
    "\r\n",
    "Try:\r\n",
    "- Iterating through multiple pages (all the pages of a database, for instance)\r\n",
    "- Visualizing using another method from our discussion or readings\r\n",
    "- Storing your data and / or visualization for external analysis"
   ],
   "metadata": {}
  }
 ],
 "metadata": {
  "orig_nbformat": 4,
  "language_info": {
   "name": "python",
   "version": "3.7.6",
   "mimetype": "text/x-python",
   "codemirror_mode": {
    "name": "ipython",
    "version": 3
   },
   "pygments_lexer": "ipython3",
   "nbconvert_exporter": "python",
   "file_extension": ".py"
  },
  "kernelspec": {
   "name": "python3",
   "display_name": "Python 3.7.6 64-bit (conda)"
  },
  "interpreter": {
   "hash": "384b16392d5df87b45fa68fd804fdd570b449e149e441c1270eb35604a8982f7"
  }
 },
 "nbformat": 4,
 "nbformat_minor": 2
}