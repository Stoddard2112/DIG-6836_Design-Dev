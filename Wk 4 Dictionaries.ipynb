{
 "cells": [
  {
   "cell_type": "code",
   "execution_count": 1,
   "source": [
    "string = \"sample string\"\r\n",
    "print(string[2])\r\n",
    "\r\n",
    "array = [\"sample\",\"array\"]\r\n",
    "print(array[1])\r\n",
    "# Prints  frist item in array the third character in it\r\n",
    "print(array[1][2])\r\n",
    "print(array[0][3])"
   ],
   "outputs": [
    {
     "output_type": "stream",
     "name": "stdout",
     "text": [
      "m\n",
      "array\n",
      "r\n",
      "p\n"
     ]
    }
   ],
   "metadata": {}
  },
  {
   "cell_type": "code",
   "execution_count": 2,
   "source": [
    "# A dictionary stores rleations \r\n",
    "# We define the dictionary with {} becaue its complex relations.  \r\n",
    "dictionary = {'word': 1, 'another': 0}\r\n",
    "print(dictionary['another'])\r\n",
    "# Looks up word in the dictionary and prints it\r\n",
    "print(dictionary['word'])\r\n",
    "# Keys are unique\r\n",
    "print(dictionary.keys())"
   ],
   "outputs": [
    {
     "output_type": "stream",
     "name": "stdout",
     "text": [
      "0\n",
      "1\n",
      "dict_keys(['word', 'another'])\n"
     ]
    }
   ],
   "metadata": {}
  },
  {
   "cell_type": "code",
   "execution_count": 3,
   "source": [
    "# This function takes word bag as input\r\n",
    "def wordsToDictionary(word_bag):\r\n",
    "    # Starts by counting our words, like in Counting Words ex. But shorthand.\r\n",
    "    word_freq = [word_bag.count(word) for word in word_bag]\r\n",
    "    # Returns word count to a dictionary, zips them together. Dictioanry needs a key and a value.  Makes the pairs actionable keys and values.\r\n",
    "    return dict(list(zip(word_bag,word_freq)))\r\n",
    "\r\n",
    "# Once dictionary is in place, we can print some words.\r\n",
    "test_words = [\"my\",\"words\",\"my\",\"words\",\"no\",\"word\",\"word\",\"word\"]\r\n",
    "counted_words = wordsToDictionary(test_words)\r\n",
    "print(counted_words)"
   ],
   "outputs": [
    {
     "output_type": "stream",
     "name": "stdout",
     "text": [
      "{'my': 2, 'words': 2, 'no': 1, 'word': 3}\n"
     ]
    }
   ],
   "metadata": {}
  },
  {
   "cell_type": "code",
   "execution_count": 4,
   "source": [
    "# Utility func to creat a sorted version of our dictionary, sorted pattern.\r\n",
    "def sortDictionary(counted_words):\r\n",
    "    # Store new list to go through and trakc word counts to sort by count and reverse so we have counted words in order.  So we can see most common words to least common word.  Orders to fq, not to word.\r\n",
    "    aux = [(counted_words[key], key) for key in counted_words]\r\n",
    "    aux.sort()\r\n",
    "    aux.reverse()\r\n",
    "    return aux\r\n",
    "\r\n",
    "counted_words = sortDictionary(counted_words)\r\n",
    "print(counted_words)"
   ],
   "outputs": [
    {
     "output_type": "stream",
     "name": "stdout",
     "text": [
      "[(3, 'word'), (2, 'words'), (2, 'my'), (1, 'no')]\n"
     ]
    }
   ],
   "metadata": {}
  },
  {
   "cell_type": "code",
   "execution_count": 5,
   "source": [
    "# Getting rid of annoying words we dont need.  Like n, r, the...\r\n",
    "\r\n",
    "# sets up a stops words function as an array.\r\n",
    "stopwords = ['a','n','the','my']\r\n",
    "# Applies stop words to bag of words and only returns unstopped words.\r\n",
    "def removeStopWords(word_bag, stopwords):\r\n",
    "    return [w for w in word_bag if w not in stopwords]\r\n",
    "# Below is the test of the fucntion, can replace with my own datasey.\r\n",
    "test_words = removeStopWords(test_words, stopwords)\r\n",
    "counted_words = wordsToDictionary(test_words)\r\n",
    "counted_words = sortDictionary(counted_words)\r\n",
    "print(counted_words)\r\n",
    "# Now we can see whats really in our text."
   ],
   "outputs": [
    {
     "output_type": "stream",
     "name": "stdout",
     "text": [
      "[(3, 'word'), (2, 'words'), (1, 'no')]\n"
     ]
    }
   ],
   "metadata": {}
  }
 ],
 "metadata": {
  "orig_nbformat": 4,
  "language_info": {
   "name": "python",
   "version": "3.7.6",
   "mimetype": "text/x-python",
   "codemirror_mode": {
    "name": "ipython",
    "version": 3
   },
   "pygments_lexer": "ipython3",
   "nbconvert_exporter": "python",
   "file_extension": ".py"
  },
  "kernelspec": {
   "name": "python3",
   "display_name": "Python 3.7.6 64-bit (conda)"
  },
  "interpreter": {
   "hash": "384b16392d5df87b45fa68fd804fdd570b449e149e441c1270eb35604a8982f7"
  }
 },
 "nbformat": 4,
 "nbformat_minor": 2
}