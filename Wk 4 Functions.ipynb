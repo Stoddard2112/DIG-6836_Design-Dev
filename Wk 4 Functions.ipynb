{
 "cells": [
  {
   "cell_type": "code",
   "execution_count": 1,
   "source": [
    "# A function is a specific set of instructions with a particualr outcome.  In python, a function is a definition.  A func will not run until you define it.  Like a loop in structure as the : and indent show it as one function.  Define it with a term, then instructiosn in the ().  Each one will need its own IC.\r\n",
    "\r\n",
    "\r\n",
    "def hello():\r\n",
    "    print(\"A functional hello.\")\r\n",
    "\r\n",
    "hello()"
   ],
   "outputs": [
    {
     "output_type": "stream",
     "name": "stdout",
     "text": [
      "A functional hello.\n"
     ]
    }
   ],
   "metadata": {}
  },
  {
   "cell_type": "code",
   "execution_count": 9,
   "source": [
    "# The greet funtion has a parameter, (name).\r\n",
    "def greet(name):\r\n",
    "    print(\"Hello \" + name + \"!\")\r\n",
    "\r\n",
    "# greet calls up the function, the (world) places world within the priniting of the function.  Whatever text is in the (), it will print that.\r\n",
    "greet(\"World\")"
   ],
   "outputs": [
    {
     "output_type": "stream",
     "name": "stdout",
     "text": [
      "Hello World!\n"
     ]
    }
   ],
   "metadata": {}
  },
  {
   "cell_type": "code",
   "execution_count": 4,
   "source": [
    "# Same as above, but including \"you\" as a default value.  In case function is called without req info.  Ex: A player doesn't type in their gamer name.\r\n",
    "def greet_default(name = \"You\"):\r\n",
    "    print(\"Hello \" + name + \"!\")\r\n",
    "greet_default()\r\n",
    "greet_default(\"Lois\")"
   ],
   "outputs": [
    {
     "output_type": "stream",
     "name": "stdout",
     "text": [
      "Hello You!\n",
      "Hello Lois!\n"
     ]
    }
   ],
   "metadata": {}
  },
  {
   "cell_type": "code",
   "execution_count": 5,
   "source": [
    "# As above, but gives two boxes, for first name and a last name.  \r\n",
    "def make_greeting(firstName, lastName):\r\n",
    "    # Return option puts something in a box and sends it back to sender.\r\n",
    "    return(\"Hello \" + firstName + \" \" + lastName + \"!\")\r\n",
    "# This makes a greeting for CLark Kent and sends it back to Clark Kent.\r\n",
    "print(make_greeting(\"Clark\", \"Kent\"))"
   ],
   "outputs": [
    {
     "output_type": "stream",
     "name": "stdout",
     "text": [
      "Hello Clark Kent!\n"
     ]
    }
   ],
   "metadata": {}
  },
  {
   "cell_type": "code",
   "execution_count": 6,
   "source": [
    "# Kicked off of Zoom for this section.  Check vid.\r\n",
    "def local_greeting():\r\n",
    "    name = \"Fred\"\r\n",
    "    print(\"Hi \" + name + \"!\")\r\n",
    "name = \"Barney\"\r\n",
    "local_greeting()\r\n",
    "print(\"Hi \" + name + \"!\")"
   ],
   "outputs": [
    {
     "output_type": "stream",
     "name": "stdout",
     "text": [
      "Hi Fred!\n",
      "Hi Barney!\n"
     ]
    }
   ],
   "metadata": {}
  }
 ],
 "metadata": {
  "orig_nbformat": 4,
  "language_info": {
   "name": "python",
   "version": "3.7.6",
   "mimetype": "text/x-python",
   "codemirror_mode": {
    "name": "ipython",
    "version": 3
   },
   "pygments_lexer": "ipython3",
   "nbconvert_exporter": "python",
   "file_extension": ".py"
  },
  "kernelspec": {
   "name": "python3",
   "display_name": "Python 3.7.6 64-bit (conda)"
  },
  "interpreter": {
   "hash": "384b16392d5df87b45fa68fd804fdd570b449e149e441c1270eb35604a8982f7"
  }
 },
 "nbformat": 4,
 "nbformat_minor": 2
}