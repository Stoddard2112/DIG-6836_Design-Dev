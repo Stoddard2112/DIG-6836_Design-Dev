{
 "cells": [
  {
   "cell_type": "markdown",
   "metadata": {},
   "source": [
    "# Exercise Twelve: Texts, Three Ways\n",
    "\n",
    "For this week, you will sample the three methods we've explored (topic modeling, sentiment analysis, and Markov chain generation) using the same set of root texts. \n",
    "\n",
    "- Collect and import ten documents (novels work best, but anything goes!)\n",
    "- Using the topic modeling code as a starter, build a topic model of the documents (Pick a topic run word cloud)\n",
    "- Using the sentiment analysis code as a starter, run a sentiment analysis on sample fragments from the documents and compare (See what is interesting)\n",
    "- Using the Markov chain code as a starter, generate a sentence using one of the documents\n",
    "- Using the Markov chain code as a starter, generate a longer text fragment using all of the documents\n",
    "\n",
    "As a bonus, try to extend this analysis to note other features of these documents using any of our previous exercises as a starting point."
   ]
  },
  {
   "cell_type": "markdown",
   "metadata": {},
   "source": [
    "Importing 10 works by Arthur Conan Doyle, as used in last week's exercise."
   ]
  },
  {
   "cell_type": "code",
   "execution_count": 1,
   "metadata": {},
   "outputs": [
    {
     "name": "stderr",
     "output_type": "stream",
     "text": [
      "[nltk_data] Downloading package averaged_perceptron_tagger to\n",
      "[nltk_data]     C:\\Users\\Stoddard\\AppData\\Roaming\\nltk_data...\n",
      "[nltk_data]   Package averaged_perceptron_tagger is already up-to-\n",
      "[nltk_data]       date!\n"
     ]
    }
   ],
   "source": [
    "import nltk \n",
    "nltk.download('averaged_perceptron_tagger')\n",
    "\n",
    "import os"
   ]
  },
  {
   "cell_type": "code",
   "execution_count": 2,
   "metadata": {},
   "outputs": [],
   "source": [
    "textdir = 'C:\\\\Users\\\\Stoddard\\\\DesignDevExercises\\\\text\\\\'\n",
    "os.chdir(textdir)"
   ]
  },
  {
   "cell_type": "markdown",
   "metadata": {},
   "source": [
    "# Topic Modeling"
   ]
  },
  {
   "cell_type": "code",
   "execution_count": 3,
   "metadata": {},
   "outputs": [
    {
     "name": "stdout",
     "output_type": "stream",
     "text": [
      "10\n",
      "['C:\\\\Users\\\\Stoddard\\\\DesignDevExercises\\\\text\\\\adventure.txt', 'C:\\\\Users\\\\Stoddard\\\\DesignDevExercises\\\\text\\\\boer.txt', 'C:\\\\Users\\\\Stoddard\\\\DesignDevExercises\\\\text\\\\fear.txt', 'C:\\\\Users\\\\Stoddard\\\\DesignDevExercises\\\\text\\\\hound.txt', 'C:\\\\Users\\\\Stoddard\\\\DesignDevExercises\\\\text\\\\last.txt', 'C:\\\\Users\\\\Stoddard\\\\DesignDevExercises\\\\text\\\\memoirs.txt', 'C:\\\\Users\\\\Stoddard\\\\DesignDevExercises\\\\text\\\\return.txt', 'C:\\\\Users\\\\Stoddard\\\\DesignDevExercises\\\\text\\\\scarlet.txt', 'C:\\\\Users\\\\Stoddard\\\\DesignDevExercises\\\\text\\\\sign.txt', 'C:\\\\Users\\\\Stoddard\\\\DesignDevExercises\\\\text\\\\white.txt']\n"
     ]
    }
   ],
   "source": [
    "import pandas as pd\n",
    "import os\n",
    "import numpy as np\n",
    "\n",
    "documents = []\n",
    "path = 'C:\\\\Users\\\\Stoddard\\\\DesignDevExercises\\\\text\\\\'\n",
    "\n",
    "filenames=sorted([os.path.join(path, fn) for fn in os.listdir(path)])\n",
    "print(len(filenames))\n",
    "print(filenames[:10]) "
   ]
  },
  {
   "cell_type": "code",
   "execution_count": 5,
   "metadata": {},
   "outputs": [],
   "source": [
    "import sklearn.feature_extraction.text as text\n",
    "\n",
    "vectorizer=text.CountVectorizer(input='filenames', stop_words=\"english\", min_df=1)\n",
    "dtm=vectorizer.fit_transform(filenames).toarray() # defines document term matrix\n",
    "\n",
    "vocab=np.array(vectorizer.get_feature_names())"
   ]
  },
  {
   "cell_type": "code",
   "execution_count": 6,
   "metadata": {},
   "outputs": [
    {
     "name": "stdout",
     "output_type": "stream",
     "text": [
      "Shape of document-term matrix: (10, 14). Number of tokens 59\n"
     ]
    }
   ],
   "source": [
    "print(f'Shape of document-term matrix: {dtm.shape}. '# in this case the shape is 7 b/c 7 docs\n",
    "      f'Number of tokens {dtm.sum()}')"
   ]
  },
  {
   "cell_type": "code",
   "execution_count": 7,
   "metadata": {},
   "outputs": [],
   "source": [
    "import sklearn.decomposition as decomposition\n",
    "model = decomposition.LatentDirichletAllocation(\n",
    "    n_components=100, learning_method='online', random_state=1)"
   ]
  },
  {
   "cell_type": "code",
   "execution_count": 8,
   "metadata": {},
   "outputs": [],
   "source": [
    "document_topic_distributions = model.fit_transform(dtm)"
   ]
  },
  {
   "cell_type": "code",
   "execution_count": 9,
   "metadata": {},
   "outputs": [],
   "source": [
    "# Grabbing a set of vocab\n",
    "vocabulary = vectorizer.get_feature_names()\n",
    "# (# topics, # vocabulary)\n",
    "assert model.components_.shape == (100, len(vocabulary))\n",
    "# (# documents, # topics)\n",
    "assert document_topic_distributions.shape == (dtm.shape[0], 100)"
   ]
  },
  {
   "cell_type": "code",
   "execution_count": 10,
   "metadata": {},
   "outputs": [
    {
     "name": "stdout",
     "output_type": "stream",
     "text": [
      "          adventure      boer  designdevexercises      fear     hound  \\\n",
      "Topic 0    0.237354  0.192002            0.193579  0.183461  0.239989   \n",
      "Topic 1    0.221949  0.190651            0.198547  0.214334  0.190587   \n",
      "Topic 2    0.209695  0.196927            0.296181  0.215479  0.254467   \n",
      "Topic 3    0.210005  0.166724            0.208297  0.219074  0.199425   \n",
      "Topic 4    0.195116  0.228752            0.183062  0.207091  0.218632   \n",
      "...             ...       ...                 ...       ...       ...   \n",
      "Topic 95   0.203013  0.204640            0.219346  0.195669  0.177860   \n",
      "Topic 96   0.198401  0.226942            0.209587  0.200464  0.222647   \n",
      "Topic 97   0.197749  0.180549            0.218141  0.200016  0.183130   \n",
      "Topic 98   0.205529  0.209199            0.205392  0.215759  0.170955   \n",
      "Topic 99   0.164080  0.197547            0.184811  0.224982  0.247049   \n",
      "\n",
      "           memoirs    return   scarlet      sign  stoddard      text  \\\n",
      "Topic 0   0.189205  0.233837  0.166079  0.226830  0.182971  0.200391   \n",
      "Topic 1   0.187645  0.182655  0.208383  0.200015  0.186861  0.204749   \n",
      "Topic 2   0.221622  0.213980  0.249399  0.226785  0.331580  0.346297   \n",
      "Topic 3   0.199842  0.207665  0.206094  0.206150  0.226740  0.196486   \n",
      "Topic 4   0.185644  0.178048  0.209995  0.210705  0.179136  0.202994   \n",
      "...            ...       ...       ...       ...       ...       ...   \n",
      "Topic 95  0.187243  0.201142  0.219543  0.208690  0.181925  0.210018   \n",
      "Topic 96  0.183279  0.240067  0.213238  0.203118  0.212319  0.182203   \n",
      "Topic 97  0.189668  0.190279  0.188611  0.219266  0.223675  0.157368   \n",
      "Topic 98  0.222162  0.196667  0.219125  0.190298  0.172075  0.169496   \n",
      "Topic 99  0.229819  0.196578  0.183898  0.187090  0.210109  0.248958   \n",
      "\n",
      "               txt     users     white  \n",
      "Topic 0   0.187041  0.182958  0.227062  \n",
      "Topic 1   0.191528  0.206117  0.216103  \n",
      "Topic 2   0.274127  0.303402  0.221436  \n",
      "Topic 3   0.191495  0.197088  0.204608  \n",
      "Topic 4   0.173754  0.203269  0.188945  \n",
      "...            ...       ...       ...  \n",
      "Topic 95  0.191876  0.231220  0.173391  \n",
      "Topic 96  0.217499  0.192474  0.221122  \n",
      "Topic 97  0.214193  0.219031  0.176381  \n",
      "Topic 98  0.179495  0.219037  0.188538  \n",
      "Topic 99  0.211059  0.215812  0.178476  \n",
      "\n",
      "[100 rows x 14 columns]\n"
     ]
    }
   ],
   "source": [
    "topic_names = [f'Topic {k}' for k in range(100)]\n",
    "topic_word_distributions = pd.DataFrame(\n",
    "    model.components_, columns=vocabulary, index=topic_names)\n",
    "print(topic_word_distributions)"
   ]
  },
  {
   "cell_type": "code",
   "execution_count": 11,
   "metadata": {},
   "outputs": [
    {
     "data": {
      "text/plain": [
       "text                  0.508072\n",
       "designdevexercises    0.495588\n",
       "txt                   0.490907\n",
       "users                 0.480355\n",
       "stoddard              0.466878\n",
       "boer                  0.308664\n",
       "adventure             0.257620\n",
       "white                 0.257170\n",
       "scarlet               0.250210\n",
       "memoirs               0.209963\n",
       "sign                  0.209306\n",
       "return                0.201594\n",
       "fear                  0.198173\n",
       "hound                 0.179849\n",
       "Name: Topic 7, dtype: float64"
      ]
     },
     "execution_count": 11,
     "metadata": {},
     "output_type": "execute_result"
    }
   ],
   "source": [
    "topic_word_distributions.loc['Topic 7'].sort_values(ascending=False).head(18)"
   ]
  },
  {
   "cell_type": "code",
   "execution_count": 12,
   "metadata": {},
   "outputs": [
    {
     "name": "stdout",
     "output_type": "stream",
     "text": [
      "    Topic 0   Topic 1   Topic 2   Topic 3   Topic 4   Topic 5   Topic 6  \\\n",
      "0  0.001429  0.001429  0.001429  0.001429  0.001429  0.001429  0.001429   \n",
      "1  0.001429  0.001429  0.001429  0.001429  0.001429  0.001429  0.001429   \n",
      "2  0.001429  0.001429  0.001429  0.001429  0.001429  0.001429  0.001429   \n",
      "3  0.001429  0.001429  0.001429  0.001429  0.001429  0.001429  0.001429   \n",
      "4  0.001667  0.001667  0.001667  0.001667  0.001667  0.001667  0.001667   \n",
      "5  0.001429  0.001429  0.001429  0.001429  0.001429  0.001429  0.001429   \n",
      "6  0.001429  0.001429  0.001429  0.001429  0.001429  0.001429  0.001429   \n",
      "7  0.001429  0.001429  0.001429  0.001429  0.001429  0.001429  0.001429   \n",
      "8  0.001429  0.001429  0.001429  0.001429  0.001429  0.001429  0.001429   \n",
      "9  0.001429  0.001429  0.001429  0.001429  0.001429  0.001429  0.001429   \n",
      "\n",
      "    Topic 7   Topic 8   Topic 9  ...  Topic 90  Topic 91  Topic 92  Topic 93  \\\n",
      "0  0.001429  0.001429  0.001429  ...  0.001429  0.001429  0.001429  0.001429   \n",
      "1  0.001429  0.001429  0.001429  ...  0.001429  0.001429  0.001429  0.001429   \n",
      "2  0.001429  0.001429  0.001429  ...  0.001429  0.001429  0.001429  0.001429   \n",
      "3  0.001429  0.001429  0.001429  ...  0.001429  0.001429  0.001429  0.001429   \n",
      "4  0.001667  0.001667  0.001667  ...  0.001667  0.001667  0.001667  0.001667   \n",
      "5  0.001429  0.001429  0.001429  ...  0.001429  0.001429  0.001429  0.001429   \n",
      "6  0.001429  0.001429  0.001429  ...  0.001429  0.001429  0.001429  0.001429   \n",
      "7  0.001429  0.001429  0.001429  ...  0.001429  0.001429  0.001429  0.001429   \n",
      "8  0.001429  0.001429  0.001429  ...  0.001429  0.001429  0.001429  0.001429   \n",
      "9  0.001429  0.001429  0.001429  ...  0.001429  0.001429  0.001429  0.001429   \n",
      "\n",
      "   Topic 94  Topic 95  Topic 96  Topic 97  Topic 98  Topic 99  \n",
      "0  0.001429  0.001429  0.001429  0.001429  0.001429  0.001429  \n",
      "1  0.001429  0.001429  0.001429  0.001429  0.001429  0.001429  \n",
      "2  0.001429  0.001429  0.001429  0.001429  0.001429  0.001429  \n",
      "3  0.001429  0.001429  0.001429  0.001429  0.001429  0.001429  \n",
      "4  0.001667  0.001667  0.001667  0.001667  0.001667  0.001667  \n",
      "5  0.001429  0.001429  0.001429  0.001429  0.001429  0.001429  \n",
      "6  0.001429  0.001429  0.001429  0.001429  0.001429  0.001429  \n",
      "7  0.001429  0.001429  0.001429  0.001429  0.001429  0.001429  \n",
      "8  0.001429  0.001429  0.001429  0.001429  0.001429  0.001429  \n",
      "9  0.001429  0.001429  0.001429  0.001429  0.001429  0.001429  \n",
      "\n",
      "[10 rows x 100 columns]\n"
     ]
    }
   ],
   "source": [
    "document_topic_distributions = pd.DataFrame(\n",
    "    document_topic_distributions, columns=topic_names)\n",
    "print(document_topic_distributions)"
   ]
  },
  {
   "cell_type": "code",
   "execution_count": 13,
   "metadata": {},
   "outputs": [
    {
     "data": {
      "text/plain": [
       "text                  0.508072\n",
       "designdevexercises    0.495588\n",
       "txt                   0.490907\n",
       "users                 0.480355\n",
       "stoddard              0.466878\n",
       "boer                  0.308664\n",
       "adventure             0.257620\n",
       "white                 0.257170\n",
       "scarlet               0.250210\n",
       "memoirs               0.209963\n",
       "sign                  0.209306\n",
       "return                0.201594\n",
       "fear                  0.198173\n",
       "hound                 0.179849\n",
       "Name: Topic 7, dtype: float64"
      ]
     },
     "execution_count": 13,
     "metadata": {},
     "output_type": "execute_result"
    }
   ],
   "source": [
    "words = topic_word_distributions.loc['Topic 7'].sort_values(ascending=False).head(18)\n",
    "words\n"
   ]
  },
  {
   "cell_type": "code",
   "execution_count": 14,
   "metadata": {},
   "outputs": [
    {
     "name": "stdout",
     "output_type": "stream",
     "text": [
      "adventure             0.257620\n",
      "boer                  0.308664\n",
      "designdevexercises    0.495588\n",
      "fear                  0.198173\n",
      "hound                 0.179849\n",
      "memoirs               0.209963\n",
      "return                0.201594\n",
      "scarlet               0.250210\n",
      "sign                  0.209306\n",
      "stoddard              0.466878\n",
      "text                  0.508072\n",
      "txt                   0.490907\n",
      "users                 0.480355\n",
      "white                 0.257170\n",
      "Name: Topic 7, dtype: float64\n"
     ]
    },
    {
     "data": {
      "image/png": "[encoded data removed]",
      "text/plain": [
       "<Figure size 432x288 with 1 Axes>"
      ]
     },
     "metadata": {
      "needs_background": "light"
     },
     "output_type": "display_data"
    }
   ],
   "source": [
    "from matplotlib import pyplot as plt\n",
    "from wordcloud import WordCloud, STOPWORDS\n",
    "import matplotlib.colors as mcolors\n",
    "\n",
    "print(topic_word_distributions.loc['Topic 7'].head(20))\n",
    "\n",
    "\n",
    "wordcloud = WordCloud().generate_from_frequencies(words)\n",
    "\n",
    "\n",
    "plt.imshow(wordcloud, interpolation='bilinear')\n",
    "plt.axis(\"off\")\n",
    "plt.show()\n",
    "\n",
    "# I think the topic modeler was only looking at the file names, not the text of the file.  I noticed this in the topic words that came up in previous cells, but I wan't sure it was a problem until the word cloud.\n"
   ]
  },
  {
   "cell_type": "markdown",
   "metadata": {},
   "source": [
    "# Sentiment Analysis"
   ]
  },
  {
   "cell_type": "code",
   "execution_count": 15,
   "metadata": {},
   "outputs": [
    {
     "name": "stderr",
     "output_type": "stream",
     "text": [
      "[nltk_data] Downloading package vader_lexicon to\n",
      "[nltk_data]     C:\\Users\\Stoddard\\AppData\\Roaming\\nltk_data...\n",
      "[nltk_data]   Package vader_lexicon is already up-to-date!\n",
      "[nltk_data] Downloading package punkt to\n",
      "[nltk_data]     C:\\Users\\Stoddard\\AppData\\Roaming\\nltk_data...\n",
      "[nltk_data]   Package punkt is already up-to-date!\n"
     ]
    },
    {
     "data": {
      "text/plain": [
       "True"
      ]
     },
     "execution_count": 15,
     "metadata": {},
     "output_type": "execute_result"
    }
   ],
   "source": [
    "import nltk\n",
    "nltk.download('vader_lexicon')\n",
    "nltk.download('punkt')"
   ]
  },
  {
   "cell_type": "code",
   "execution_count": 16,
   "metadata": {},
   "outputs": [],
   "source": [
    "from nltk.sentiment.vader import SentimentIntensityAnalyzer\n",
    "sid = SentimentIntensityAnalyzer()\n",
    "\n",
    "# the variable 'message_text' now contains the text we will analyze.\n",
    "message_text = '''Mr. Sherlock Holmes, who was usually very late in the mornings,\n",
    "save upon those not infrequent occasions when he was up all\n",
    "night, was seated at the breakfast table. I stood upon the\n",
    "hearth-rug and picked up the stick which our visitor had left\n",
    "behind him the night before. It was a fine, thick piece of wood,\n",
    "bulbous-headed, of the sort which is known as a \"Penang lawyer.\"\n",
    "Just under the head was a broad silver band nearly an inch\n",
    "across. \"To James Mortimer, M.R.C.S., from his friends of the\n",
    "C.C.H.,\" was engraved upon it, with the date \"1884.\" It was just\n",
    "such a stick as the old-fashioned family practitioner used to\n",
    "carry--dignified, solid, and reassuring.'''"
   ]
  },
  {
   "cell_type": "code",
   "execution_count": 17,
   "metadata": {},
   "outputs": [
    {
     "name": "stdout",
     "output_type": "stream",
     "text": [
      "Mr. Sherlock Holmes, who was usually very late in the mornings,\n",
      "save upon those not infrequent occasions when he was up all\n",
      "night, was seated at the breakfast table. I stood upon the\n",
      "hearth-rug and picked up the stick which our visitor had left\n",
      "behind him the night before. It was a fine, thick piece of wood,\n",
      "bulbous-headed, of the sort which is known as a \"Penang lawyer.\"\n",
      "Just under the head was a broad silver band nearly an inch\n",
      "across. \"To James Mortimer, M.R.C.S., from his friends of the\n",
      "C.C.H.,\" was engraved upon it, with the date \"1884.\" It was just\n",
      "such a stick as the old-fashioned family practitioner used to\n",
      "carry--dignified, solid, and reassuring.\n",
      "compound: 0.886, neg: 0.0, neu: 0.895, pos: 0.105, "
     ]
    }
   ],
   "source": [
    "print(message_text)\n",
    "\n",
    "# Calling the polarity_scores method on sid and passing in the message_text outputs a dictionary with negative, neutral, positive, and compound scores for the input text\n",
    "scores = sid.polarity_scores(message_text)\n",
    "for key in sorted(scores):\n",
    "        print('{0}: {1}, '.format(key, scores[key]), end='')"
   ]
  },
  {
   "cell_type": "code",
   "execution_count": 18,
   "metadata": {},
   "outputs": [
    {
     "name": "stdout",
     "output_type": "stream",
     "text": [
      "Mr. Sherlock Holmes, who was usually very late in the mornings,\n",
      "save upon those not infrequent occasions when he was up all\n",
      "night, was seated at the breakfast table.\n",
      "compound: 0.4939, neg: 0.0, neu: 0.897, pos: 0.103, \n",
      "I stood upon the\n",
      "hearth-rug and picked up the stick which our visitor had left\n",
      "behind him the night before.\n",
      "compound: 0.0, neg: 0.0, neu: 1.0, pos: 0.0, \n",
      "It was a fine, thick piece of wood,\n",
      "bulbous-headed, of the sort which is known as a \"Penang lawyer.\"\n",
      "compound: 0.2023, neg: 0.0, neu: 0.899, pos: 0.101, \n",
      "Just under the head was a broad silver band nearly an inch\n",
      "across.\n",
      "compound: 0.0, neg: 0.0, neu: 1.0, pos: 0.0, \n",
      "\"To James Mortimer, M.R.C.S., from his friends of the\n",
      "C.C.H.,\" was engraved upon it, with the date \"1884.\"\n",
      "compound: 0.4767, neg: 0.0, neu: 0.846, pos: 0.154, \n",
      "It was just\n",
      "such a stick as the old-fashioned family practitioner used to\n",
      "carry--dignified, solid, and reassuring.\n",
      "compound: 0.5106, neg: 0.0, neu: 0.765, pos: 0.235, \n"
     ]
    }
   ],
   "source": [
    "# below is the sentiment analysis code rewritten for sentence-level analysis\n",
    "# note the new module -- word_tokenize!\n",
    "import nltk.data\n",
    "from nltk.sentiment.vader import SentimentIntensityAnalyzer\n",
    "from nltk import sentiment\n",
    "from nltk import word_tokenize\n",
    "\n",
    "# Next, we initialize VADER so we can use it within our Python script\n",
    "sid = SentimentIntensityAnalyzer()\n",
    "\n",
    "# We will also initialize our 'english.pickle' function and give it a short name\n",
    "\n",
    "tokenizer = nltk.data.load('tokenizers/punkt/english.pickle')\n",
    "\n",
    "message_text = '''Mr. Sherlock Holmes, who was usually very late in the mornings,\n",
    "save upon those not infrequent occasions when he was up all\n",
    "night, was seated at the breakfast table. I stood upon the\n",
    "hearth-rug and picked up the stick which our visitor had left\n",
    "behind him the night before. It was a fine, thick piece of wood,\n",
    "bulbous-headed, of the sort which is known as a \"Penang lawyer.\"\n",
    "Just under the head was a broad silver band nearly an inch\n",
    "across. \"To James Mortimer, M.R.C.S., from his friends of the\n",
    "C.C.H.,\" was engraved upon it, with the date \"1884.\" It was just\n",
    "such a stick as the old-fashioned family practitioner used to\n",
    "carry--dignified, solid, and reassuring.'''\n",
    "\n",
    "# The tokenize method breaks up the paragraph into a list of strings. In this example, note that the tokenizer is confused by the absence of spaces after periods and actually fails to break up sentences in two instances. How might you fix that?\n",
    "\n",
    "sentences = tokenizer.tokenize(message_text)\n",
    "\n",
    "# We add the additional step of iterating through the list of sentences and calculating and printing polarity scores for each one.\n",
    "\n",
    "for sentence in sentences:\n",
    "        print(sentence)\n",
    "        scores = sid.polarity_scores(sentence)\n",
    "        for key in sorted(scores):\n",
    "                print('{0}: {1}, '.format(key, scores[key]), end='')\n",
    "        print()\n"
   ]
  },
  {
   "cell_type": "markdown",
   "metadata": {},
   "source": [
    "# Markov chain code sentence"
   ]
  },
  {
   "cell_type": "code",
   "execution_count": 19,
   "metadata": {},
   "outputs": [],
   "source": [
    "import markovify\n",
    "import random"
   ]
  },
  {
   "cell_type": "code",
   "execution_count": 20,
   "metadata": {},
   "outputs": [],
   "source": [
    "with open(\"hound.txt\",encoding='utf-8') as f:\n",
    "    text = f.read()"
   ]
  },
  {
   "cell_type": "code",
   "execution_count": 21,
   "metadata": {},
   "outputs": [],
   "source": [
    "text_model = markovify.Text(text)"
   ]
  },
  {
   "cell_type": "code",
   "execution_count": 23,
   "metadata": {},
   "outputs": [
    {
     "name": "stdout",
     "output_type": "stream",
     "text": [
      "Sir Henry was much interested and asked him casually to what I had often been piqued by his good fortune, and many fees to meet and keep up with these requirements.\n"
     ]
    }
   ],
   "source": [
    "print( text_model.make_sentence() )"
   ]
  },
  {
   "cell_type": "markdown",
   "metadata": {},
   "source": [
    "# Markov chain code to generate a longer text fragment "
   ]
  },
  {
   "cell_type": "code",
   "execution_count": 25,
   "metadata": {},
   "outputs": [
    {
     "name": "stdout",
     "output_type": "stream",
     "text": [
      "adventure.txt\n",
      "boer.txt\n",
      "fear.txt\n",
      "hound.txt\n",
      "last.txt\n",
      "memoirs.txt\n",
      "return.txt\n",
      "scarlet.txt\n",
      "sign.txt\n",
      "white.txt\n"
     ]
    }
   ],
   "source": [
    "import os\n",
    "path = 'C:\\\\Users\\\\Stoddard\\\\DesignDevExercises\\\\text\\\\'\n",
    "with os.scandir(path) as entries:\n",
    "    for entry in entries:\n",
    "        print(entry.name)\n",
    "        f = open(f'{path}\\{entry.name}',encoding='utf-8')\n",
    "        text += f.read()"
   ]
  },
  {
   "cell_type": "code",
   "execution_count": 26,
   "metadata": {},
   "outputs": [
    {
     "name": "stdout",
     "output_type": "stream",
     "text": [
      "The hound was dead. John Clayton departed chuckling, and Holmes breathed a word about it yet to mortal man. At first he thought that she had married without his consent, and perhaps for one was in the east of Yorkshire. Both road and every turn of the most direct way is always to do so. He stood now gazing with great reverence at the door and we were dealing with a sudden passion of earnestness. We all three shook hands, and I sat, upon a friend in America. If I could see no better course than to anyone else. \n",
      "\n",
      "By his cries he must have been so entirely cleared up in despair, when in an uproar, some calling for their missing man, but it appeared to be circumspect in the dark veil. There's another one waiting for us to the edge of the night's adventures had shattered his nerves, and before I have tried to picture all that had passed, and he recognized how foolish and how to help the police in any way. Mrs. Lyons knew neither of these a staple and chain with a strong suspicion against Stapleton. One towel passed round the hall, and the long ringlets. Already the first impression. \n",
      "\n",
      "Please, please, be frank with you, but on second thoughts it seemed to be in danger. The result, however, was very dear to me. Get away from his mouth and eyes. \n",
      "\n",
      "On all sides by the presence of a refund. After you left I at once upon my new quest. Eventually, as we ourselves might have softened; but now, when two black-clothed gentlemen sat in silence in the pictures of the hill, and the case within the last man in the old stone huts, and in some ways they have from me, and she, too--she was happy when she answered me. My body has remained a secret to us. Though young, his long back was already invisible, and the old man's death. What it all means I cannot doubt that my friend more completely taken aback than by the baronet's clouded brow that he has an excellent telescope, with which his study table was littered. \n",
      "\n",
      "But there were large rooms furnished with an electronic work is discovered and reported to you in touch with several interesting alternatives. A tall man had fallen into a small lioness. In an instant Stapleton was talking with animation, but the baronet gently opened his eyes. There, sitting together in the presence of a low sun turning the streams to threads of gold and glowing on the alert once more. I told her that since I had got the number of glass-topped cases full of vague fears, pursued my way to South America, establish his identity before the attention of the family sat from the consequences of his own way in everything until he broke at last we were there under the rude lintel, and there is no reason to be strongly attracted by her, and I bind you to drive to where the two thin towers of Baskerville Hall. Sir Henry to the lady's face. I tiptoed down the path. I looked back at us. \n",
      "\n",
      "\n"
     ]
    }
   ],
   "source": [
    "novel = ''\n",
    "while (len( novel.split(\" \")) < 500):# Novel lenght\n",
    "  for i in range(random.randrange(3,9)): # Paragraph structure 3 to 9 sent\n",
    "    novel += text_model.make_sentence() + \" \"\n",
    "  novel += \"\\n\\n\"\n",
    "    # print(text_model.make_sentence()\n",
    "\n",
    "print(novel)\n",
    "# Write a file as .txt to export the production "
   ]
  }
 ],
 "metadata": {
  "interpreter": {
   "hash": "0da26090e65dfd4cdfd0711879594308b8318542197956b2adc85226ab711834"
  },
  "kernelspec": {
   "display_name": "Python 3.8.3 64-bit (conda)",
   "language": "python",
   "name": "python3"
  },
  "language_info": {
   "codemirror_mode": {
    "name": "ipython",
    "version": 3
   },
   "file_extension": ".py",
   "mimetype": "text/x-python",
   "name": "python",
   "nbconvert_exporter": "python",
   "pygments_lexer": "ipython3",
   "version": "3.8.3"
  },
  "orig_nbformat": 4
 },
 "nbformat": 4,
 "nbformat_minor": 2
}
