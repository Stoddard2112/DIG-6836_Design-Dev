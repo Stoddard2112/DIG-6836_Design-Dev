{
 "cells": [
  {
   "cell_type": "markdown",
   "metadata": {},
   "source": [
    "# Exercise Twelve: Texts, Three Ways\n",
    "\n",
    "For this week, you will sample the three methods we've explored (topic modeling, sentiment analysis, and Markov chain generation) using the same set of root texts. \n",
    "\n",
    "- Collect and import ten documents (novels work best, but anything goes!)\n",
    "- Using the topic modeling code as a starter, build a topic model of the documents (Pick a topic run word cloud)\n",
    "- Using the sentiment analysis code as a starter, run a sentiment analysis on sample fragments from the documents and compare (See what is interesting)\n",
    "- Using the Markov chain code as a starter, generate a sentence using one of the documents\n",
    "- Using the Markov chain code as a starter, generate a longer text fragment using all of the documents\n",
    "\n",
    "As a bonus, try to extend this analysis to note other features of these documents using any of our previous exercises as a starting point."
   ]
  },
  {
   "cell_type": "markdown",
   "metadata": {},
   "source": [
    "Importing 10 works by Arthur Conan Doyle, as used in last week's exercise."
   ]
  },
  {
   "cell_type": "code",
   "execution_count": 1,
   "metadata": {},
   "outputs": [
    {
     "name": "stderr",
     "output_type": "stream",
     "text": [
      "[nltk_data] Downloading package averaged_perceptron_tagger to\n",
      "[nltk_data]     C:\\Users\\Stoddard\\AppData\\Roaming\\nltk_data...\n",
      "[nltk_data]   Package averaged_perceptron_tagger is already up-to-\n",
      "[nltk_data]       date!\n"
     ]
    }
   ],
   "source": [
    "import nltk \n",
    "nltk.download('averaged_perceptron_tagger')\n",
    "\n",
    "import os"
   ]
  },
  {
   "cell_type": "code",
   "execution_count": 2,
   "metadata": {},
   "outputs": [],
   "source": [
    "textdir = 'C:\\\\Users\\\\Stoddard\\\\DesignDevExercises\\\\text\\\\'\n",
    "os.chdir(textdir)"
   ]
  },
  {
   "cell_type": "markdown",
   "metadata": {},
   "source": [
    "# Topic Modeling"
   ]
  },
  {
   "cell_type": "code",
   "execution_count": 3,
   "metadata": {},
   "outputs": [
    {
     "name": "stdout",
     "output_type": "stream",
     "text": [
      "10\n",
      "['C:\\\\Users\\\\Stoddard\\\\DesignDevExercises\\\\text\\\\adventure.txt', 'C:\\\\Users\\\\Stoddard\\\\DesignDevExercises\\\\text\\\\boer.txt', 'C:\\\\Users\\\\Stoddard\\\\DesignDevExercises\\\\text\\\\fear.txt', 'C:\\\\Users\\\\Stoddard\\\\DesignDevExercises\\\\text\\\\hound.txt', 'C:\\\\Users\\\\Stoddard\\\\DesignDevExercises\\\\text\\\\last.txt', 'C:\\\\Users\\\\Stoddard\\\\DesignDevExercises\\\\text\\\\memoirs.txt', 'C:\\\\Users\\\\Stoddard\\\\DesignDevExercises\\\\text\\\\return.txt', 'C:\\\\Users\\\\Stoddard\\\\DesignDevExercises\\\\text\\\\scarlet.txt', 'C:\\\\Users\\\\Stoddard\\\\DesignDevExercises\\\\text\\\\sign.txt', 'C:\\\\Users\\\\Stoddard\\\\DesignDevExercises\\\\text\\\\white.txt']\n"
     ]
    }
   ],
   "source": [
    "import pandas as pd\n",
    "import os\n",
    "import numpy as np\n",
    "\n",
    "documents = []\n",
    "path = 'C:\\\\Users\\\\Stoddard\\\\DesignDevExercises\\\\text\\\\'\n",
    "\n",
    "filenames=sorted([os.path.join(path, fn) for fn in os.listdir(path)])\n",
    "print(len(filenames))\n",
    "print(filenames[:10]) "
   ]
  },
  {
   "cell_type": "code",
   "execution_count": 4,
   "metadata": {},
   "outputs": [],
   "source": [
    "import sklearn.feature_extraction.text as text\n",
    "\n",
    "vectorizer=text.CountVectorizer(input='filename', stop_words=\"english\", min_df=1)\n",
    "dtm=vectorizer.fit_transform(filenames).toarray() # defines document term matrix\n",
    "\n",
    "vocab=np.array(vectorizer.get_feature_names())"
   ]
  },
  {
   "cell_type": "code",
   "execution_count": 5,
   "metadata": {},
   "outputs": [
    {
     "name": "stdout",
     "output_type": "stream",
     "text": [
      "Shape of document-term matrix: (10, 25327). Number of tokens 400349\n"
     ]
    }
   ],
   "source": [
    "print(f'Shape of document-term matrix: {dtm.shape}. '# in this case the shape is 7 b/c 7 docs\n",
    "      f'Number of tokens {dtm.sum()}')"
   ]
  },
  {
   "cell_type": "code",
   "execution_count": 6,
   "metadata": {},
   "outputs": [],
   "source": [
    "import sklearn.decomposition as decomposition\n",
    "model = decomposition.LatentDirichletAllocation(\n",
    "    n_components=100, learning_method='online', random_state=1)"
   ]
  },
  {
   "cell_type": "code",
   "execution_count": 7,
   "metadata": {},
   "outputs": [],
   "source": [
    "document_topic_distributions = model.fit_transform(dtm)"
   ]
  },
  {
   "cell_type": "code",
   "execution_count": 8,
   "metadata": {},
   "outputs": [],
   "source": [
    "# Grabbing a set of vocab\n",
    "vocabulary = vectorizer.get_feature_names()\n",
    "# (# topics, # vocabulary)\n",
    "assert model.components_.shape == (100, len(vocabulary))\n",
    "# (# documents, # topics)\n",
    "assert document_topic_distributions.shape == (dtm.shape[0], 100)"
   ]
  },
  {
   "cell_type": "code",
   "execution_count": 9,
   "metadata": {},
   "outputs": [
    {
     "name": "stdout",
     "output_type": "stream",
     "text": [
      "                00        000        04    0index        10       100  \\\n",
      "Topic 0   8.576775  10.733047  0.940572  0.929454  8.437956  3.959951   \n",
      "Topic 1   0.185883   0.204047  0.247339  0.166100  0.197605  0.195640   \n",
      "Topic 2   0.189086   0.237564  0.207426  0.212009  0.228660  0.217254   \n",
      "Topic 3   0.207548   0.218307  0.220007  0.193932  0.246547  0.245101   \n",
      "Topic 4   0.238569   0.282050  0.247576  0.208906  0.231058  0.187769   \n",
      "...            ...        ...       ...       ...       ...       ...   \n",
      "Topic 95  0.181787   0.243313  0.231539  0.203405  0.226715  0.246606   \n",
      "Topic 96  0.194982   0.219258  0.210738  0.194090  0.216290  0.195555   \n",
      "Topic 97  0.227863   0.255689  0.205471  0.185175  0.240855  0.210776   \n",
      "Topic 98  0.166174   0.170569  0.185170  0.171905  0.216975  0.228452   \n",
      "Topic 99  0.200963   0.236667  0.184255  0.187261  0.259433  0.224074   \n",
      "\n",
      "              1000       104       105       108  ...        zu  \\\n",
      "Topic 0   7.830797  0.922023  0.228465  0.930915  ...  0.937097   \n",
      "Topic 1   0.194618  0.201838  0.224712  0.201200  ...  0.179364   \n",
      "Topic 2   0.205406  0.206728  0.176110  0.201303  ...  0.174940   \n",
      "Topic 3   0.205375  0.213264  0.220808  0.248150  ...  0.196443   \n",
      "Topic 4   0.197010  0.225149  0.238139  0.213010  ...  0.176912   \n",
      "...            ...       ...       ...       ...  ...       ...   \n",
      "Topic 95  0.195236  0.185043  0.197879  0.198874  ...  0.238776   \n",
      "Topic 96  0.203455  0.205452  0.224915  0.235902  ...  0.198902   \n",
      "Topic 97  0.188969  0.203681  0.200918  0.245048  ...  0.233417   \n",
      "Topic 98  0.182355  0.221336  0.230341  0.214511  ...  0.223273   \n",
      "Topic 99  0.203734  0.205704  0.199689  0.164736  ...  0.190388   \n",
      "\n",
      "          zuikerboschrand      zulu  zululand     zulus       zum  zuurberg  \\\n",
      "Topic 0          0.177229  0.206316  0.210322  0.215641  1.647543  0.235196   \n",
      "Topic 1          0.231168  0.207784  0.237537  0.162340  0.218847  0.197950   \n",
      "Topic 2          0.232662  0.191711  0.191244  0.219701  0.206829  0.183649   \n",
      "Topic 3          0.196836  0.227557  0.225872  0.262582  0.222889  0.210569   \n",
      "Topic 4          0.216022  0.194672  0.185466  0.205412  0.217929  0.169052   \n",
      "...                   ...       ...       ...       ...       ...       ...   \n",
      "Topic 95         0.178228  0.221534  0.202782  0.223865  0.204643  0.233144   \n",
      "Topic 96         0.187097  0.229370  0.216611  0.203174  0.206759  0.180180   \n",
      "Topic 97         0.203733  0.219780  0.214804  0.177794  0.175116  0.154092   \n",
      "Topic 98         0.233995  0.256362  0.210570  0.205177  0.243611  0.219350   \n",
      "Topic 99         0.227092  0.253249  0.194761  0.190178  0.192044  0.225419   \n",
      "\n",
      "          zuurfontein  zwaggenhoek       zyl  \n",
      "Topic 0      0.222891     0.196182  0.198255  \n",
      "Topic 1      0.226650     0.202966  0.225778  \n",
      "Topic 2      0.197411     0.194449  0.211996  \n",
      "Topic 3      0.188951     0.197978  0.162200  \n",
      "Topic 4      0.196647     0.251644  0.205551  \n",
      "...               ...          ...       ...  \n",
      "Topic 95     0.212792     0.184209  0.177909  \n",
      "Topic 96     0.252177     0.194328  0.239956  \n",
      "Topic 97     0.204194     0.213853  0.201230  \n",
      "Topic 98     0.219522     0.208977  0.186430  \n",
      "Topic 99     0.204827     0.214893  0.220605  \n",
      "\n",
      "[100 rows x 25327 columns]\n"
     ]
    }
   ],
   "source": [
    "topic_names = [f'Topic {k}' for k in range(100)]\n",
    "topic_word_distributions = pd.DataFrame(\n",
    "    model.components_, columns=vocabulary, index=topic_names)\n",
    "print(topic_word_distributions)"
   ]
  },
  {
   "cell_type": "code",
   "execution_count": 10,
   "metadata": {},
   "outputs": [
    {
     "data": {
      "text/plain": [
       "man       1.988095\n",
       "said      1.963111\n",
       "holmes    1.520435\n",
       "come      1.059256\n",
       "men       1.013709\n",
       "came      0.992817\n",
       "little    0.984254\n",
       "long      0.907347\n",
       "mr        0.876253\n",
       "room      0.875963\n",
       "hand      0.821706\n",
       "time      0.810467\n",
       "house     0.806232\n",
       "left      0.764025\n",
       "face      0.756053\n",
       "case      0.723617\n",
       "saw       0.711901\n",
       "way       0.709161\n",
       "Name: Topic 7, dtype: float64"
      ]
     },
     "execution_count": 10,
     "metadata": {},
     "output_type": "execute_result"
    }
   ],
   "source": [
    "topic_word_distributions.loc['Topic 7'].sort_values(ascending=False).head(18)"
   ]
  },
  {
   "cell_type": "code",
   "execution_count": 11,
   "metadata": {},
   "outputs": [
    {
     "name": "stdout",
     "output_type": "stream",
     "text": [
      "        Topic 0       Topic 1       Topic 2       Topic 3       Topic 4  \\\n",
      "0  9.999770e-01  2.318518e-07  2.318518e-07  2.318518e-07  2.318518e-07   \n",
      "1  1.008685e-07  1.008685e-07  1.008685e-07  1.008685e-07  1.008685e-07   \n",
      "2  9.999589e-01  4.149205e-07  4.149205e-07  4.149205e-07  4.149205e-07   \n",
      "3  9.999593e-01  4.108801e-07  4.108801e-07  4.108801e-07  4.108801e-07   \n",
      "4  9.999610e-01  3.935768e-07  3.935768e-07  3.935768e-07  3.935768e-07   \n",
      "5  9.999717e-01  2.857714e-07  2.857714e-07  2.857714e-07  2.857714e-07   \n",
      "6  9.999780e-01  2.226924e-07  2.226924e-07  2.226924e-07  2.226924e-07   \n",
      "7  9.999487e-01  5.184302e-07  5.184302e-07  5.184302e-07  5.184302e-07   \n",
      "8  9.999471e-01  5.339884e-07  5.339884e-07  5.339884e-07  5.339884e-07   \n",
      "9  1.507659e-07  1.507659e-07  1.507659e-07  1.507659e-07  1.507659e-07   \n",
      "\n",
      "        Topic 5       Topic 6       Topic 7       Topic 8       Topic 9  ...  \\\n",
      "0  2.318518e-07  2.318518e-07  2.318518e-07  2.318518e-07  2.318518e-07  ...   \n",
      "1  1.008685e-07  1.008685e-07  1.008685e-07  1.008685e-07  1.008685e-07  ...   \n",
      "2  4.149205e-07  4.149205e-07  4.149205e-07  4.149205e-07  4.149205e-07  ...   \n",
      "3  4.108801e-07  4.108801e-07  4.108801e-07  4.108801e-07  4.108801e-07  ...   \n",
      "4  3.935768e-07  3.935768e-07  3.935768e-07  3.935768e-07  3.935768e-07  ...   \n",
      "5  2.857714e-07  2.857714e-07  2.857714e-07  2.857714e-07  2.857714e-07  ...   \n",
      "6  2.226924e-07  2.226924e-07  2.226924e-07  2.226924e-07  2.226924e-07  ...   \n",
      "7  5.184302e-07  5.184302e-07  5.184302e-07  5.184302e-07  5.184302e-07  ...   \n",
      "8  5.339884e-07  5.339884e-07  5.339884e-07  5.339884e-07  5.339884e-07  ...   \n",
      "9  1.507659e-07  1.507659e-07  1.507659e-07  1.507659e-07  1.507659e-07  ...   \n",
      "\n",
      "       Topic 90      Topic 91      Topic 92      Topic 93      Topic 94  \\\n",
      "0  2.318518e-07  2.318518e-07  2.318518e-07  2.318518e-07  2.318518e-07   \n",
      "1  1.008685e-07  1.008685e-07  1.008685e-07  1.008685e-07  1.008685e-07   \n",
      "2  4.149205e-07  4.149205e-07  4.149205e-07  4.149205e-07  4.149205e-07   \n",
      "3  4.108801e-07  4.108801e-07  4.108801e-07  4.108801e-07  4.108801e-07   \n",
      "4  3.935768e-07  3.935768e-07  3.935768e-07  3.935768e-07  3.935768e-07   \n",
      "5  2.857714e-07  2.857714e-07  2.857714e-07  2.857714e-07  2.857714e-07   \n",
      "6  2.226924e-07  2.226924e-07  2.226924e-07  2.226924e-07  2.226924e-07   \n",
      "7  5.184302e-07  5.184302e-07  5.184302e-07  5.184302e-07  5.184302e-07   \n",
      "8  5.339884e-07  5.339884e-07  5.339884e-07  5.339884e-07  5.339884e-07   \n",
      "9  1.507659e-07  1.507659e-07  1.507659e-07  1.507659e-07  1.507659e-07   \n",
      "\n",
      "       Topic 95      Topic 96      Topic 97      Topic 98      Topic 99  \n",
      "0  2.318518e-07  2.318518e-07  2.318518e-07  2.318518e-07  2.318518e-07  \n",
      "1  1.008685e-07  1.008685e-07  1.008685e-07  1.008685e-07  1.008685e-07  \n",
      "2  4.149205e-07  4.149205e-07  4.149205e-07  4.149205e-07  4.149205e-07  \n",
      "3  4.108801e-07  4.108801e-07  4.108801e-07  4.108801e-07  4.108801e-07  \n",
      "4  3.935768e-07  3.935768e-07  3.935768e-07  3.935768e-07  3.935768e-07  \n",
      "5  2.857714e-07  2.857714e-07  2.857714e-07  2.857714e-07  2.857714e-07  \n",
      "6  2.226924e-07  2.226924e-07  2.226924e-07  2.226924e-07  2.226924e-07  \n",
      "7  5.184302e-07  5.184302e-07  5.184302e-07  5.184302e-07  5.184302e-07  \n",
      "8  5.339884e-07  5.339884e-07  5.339884e-07  5.339884e-07  5.339884e-07  \n",
      "9  1.507659e-07  1.507659e-07  1.507659e-07  1.507659e-07  1.507659e-07  \n",
      "\n",
      "[10 rows x 100 columns]\n"
     ]
    }
   ],
   "source": [
    "document_topic_distributions = pd.DataFrame(\n",
    "    document_topic_distributions, columns=topic_names)\n",
    "print(document_topic_distributions)"
   ]
  },
  {
   "cell_type": "code",
   "execution_count": 12,
   "metadata": {},
   "outputs": [
    {
     "data": {
      "text/plain": [
       "man       1.988095\n",
       "said      1.963111\n",
       "holmes    1.520435\n",
       "come      1.059256\n",
       "men       1.013709\n",
       "came      0.992817\n",
       "little    0.984254\n",
       "long      0.907347\n",
       "mr        0.876253\n",
       "room      0.875963\n",
       "hand      0.821706\n",
       "time      0.810467\n",
       "house     0.806232\n",
       "left      0.764025\n",
       "face      0.756053\n",
       "case      0.723617\n",
       "saw       0.711901\n",
       "way       0.709161\n",
       "Name: Topic 7, dtype: float64"
      ]
     },
     "execution_count": 12,
     "metadata": {},
     "output_type": "execute_result"
    }
   ],
   "source": [
    "words = topic_word_distributions.loc['Topic 7'].sort_values(ascending=False).head(18)\n",
    "words\n"
   ]
  },
  {
   "cell_type": "code",
   "execution_count": 13,
   "metadata": {},
   "outputs": [
    {
     "name": "stdout",
     "output_type": "stream",
     "text": [
      "00        0.206893\n",
      "000       0.219208\n",
      "04        0.288450\n",
      "0index    0.169694\n",
      "10        0.199521\n",
      "100       0.219738\n",
      "1000      0.229044\n",
      "104       0.248262\n",
      "105       0.186511\n",
      "108       0.188284\n",
      "109       0.184706\n",
      "10_s      0.254608\n",
      "10th      0.212179\n",
      "11        0.218225\n",
      "110       0.206241\n",
      "1100      0.204558\n",
      "112       0.186980\n",
      "114       0.222849\n",
      "117       0.269852\n",
      "117th     0.202239\n",
      "Name: Topic 7, dtype: float64\n"
     ]
    },
    {
     "data": {
      "image/png": "[encoded data removed]",
      "text/plain": [
       "<Figure size 432x288 with 1 Axes>"
      ]
     },
     "metadata": {
      "needs_background": "light"
     },
     "output_type": "display_data"
    }
   ],
   "source": [
    "from matplotlib import pyplot as plt\n",
    "from wordcloud import WordCloud, STOPWORDS\n",
    "import matplotlib.colors as mcolors\n",
    "\n",
    "print(topic_word_distributions.loc['Topic 7'].head(20))\n",
    "\n",
    "\n",
    "wordcloud = WordCloud().generate_from_frequencies(words)\n",
    "\n",
    "\n",
    "plt.imshow(wordcloud, interpolation='bilinear')\n",
    "plt.axis(\"off\")\n",
    "plt.show()\n",
    "\n",
    "# Thank you!  The change from filenames to filename appears to have solved the issue.  \n"
   ]
  },
  {
   "cell_type": "markdown",
   "metadata": {},
   "source": [
    "# Sentiment Analysis"
   ]
  },
  {
   "cell_type": "code",
   "execution_count": 15,
   "metadata": {},
   "outputs": [
    {
     "name": "stderr",
     "output_type": "stream",
     "text": [
      "[nltk_data] Downloading package vader_lexicon to\n",
      "[nltk_data]     C:\\Users\\Stoddard\\AppData\\Roaming\\nltk_data...\n",
      "[nltk_data]   Package vader_lexicon is already up-to-date!\n",
      "[nltk_data] Downloading package punkt to\n",
      "[nltk_data]     C:\\Users\\Stoddard\\AppData\\Roaming\\nltk_data...\n",
      "[nltk_data]   Package punkt is already up-to-date!\n"
     ]
    },
    {
     "data": {
      "text/plain": [
       "True"
      ]
     },
     "execution_count": 15,
     "metadata": {},
     "output_type": "execute_result"
    }
   ],
   "source": [
    "import nltk\n",
    "nltk.download('vader_lexicon')\n",
    "nltk.download('punkt')"
   ]
  },
  {
   "cell_type": "code",
   "execution_count": 16,
   "metadata": {},
   "outputs": [],
   "source": [
    "from nltk.sentiment.vader import SentimentIntensityAnalyzer\n",
    "sid = SentimentIntensityAnalyzer()\n",
    "\n",
    "# the variable 'message_text' now contains the text we will analyze.\n",
    "message_text = '''Mr. Sherlock Holmes, who was usually very late in the mornings,\n",
    "save upon those not infrequent occasions when he was up all\n",
    "night, was seated at the breakfast table. I stood upon the\n",
    "hearth-rug and picked up the stick which our visitor had left\n",
    "behind him the night before. It was a fine, thick piece of wood,\n",
    "bulbous-headed, of the sort which is known as a \"Penang lawyer.\"\n",
    "Just under the head was a broad silver band nearly an inch\n",
    "across. \"To James Mortimer, M.R.C.S., from his friends of the\n",
    "C.C.H.,\" was engraved upon it, with the date \"1884.\" It was just\n",
    "such a stick as the old-fashioned family practitioner used to\n",
    "carry--dignified, solid, and reassuring.'''"
   ]
  },
  {
   "cell_type": "code",
   "execution_count": 17,
   "metadata": {},
   "outputs": [
    {
     "name": "stdout",
     "output_type": "stream",
     "text": [
      "Mr. Sherlock Holmes, who was usually very late in the mornings,\n",
      "save upon those not infrequent occasions when he was up all\n",
      "night, was seated at the breakfast table. I stood upon the\n",
      "hearth-rug and picked up the stick which our visitor had left\n",
      "behind him the night before. It was a fine, thick piece of wood,\n",
      "bulbous-headed, of the sort which is known as a \"Penang lawyer.\"\n",
      "Just under the head was a broad silver band nearly an inch\n",
      "across. \"To James Mortimer, M.R.C.S., from his friends of the\n",
      "C.C.H.,\" was engraved upon it, with the date \"1884.\" It was just\n",
      "such a stick as the old-fashioned family practitioner used to\n",
      "carry--dignified, solid, and reassuring.\n",
      "compound: 0.886, neg: 0.0, neu: 0.895, pos: 0.105, "
     ]
    }
   ],
   "source": [
    "print(message_text)\n",
    "\n",
    "# Calling the polarity_scores method on sid and passing in the message_text outputs a dictionary with negative, neutral, positive, and compound scores for the input text\n",
    "scores = sid.polarity_scores(message_text)\n",
    "for key in sorted(scores):\n",
    "        print('{0}: {1}, '.format(key, scores[key]), end='')"
   ]
  },
  {
   "cell_type": "code",
   "execution_count": 18,
   "metadata": {},
   "outputs": [
    {
     "name": "stdout",
     "output_type": "stream",
     "text": [
      "Mr. Sherlock Holmes, who was usually very late in the mornings,\n",
      "save upon those not infrequent occasions when he was up all\n",
      "night, was seated at the breakfast table.\n",
      "compound: 0.4939, neg: 0.0, neu: 0.897, pos: 0.103, \n",
      "I stood upon the\n",
      "hearth-rug and picked up the stick which our visitor had left\n",
      "behind him the night before.\n",
      "compound: 0.0, neg: 0.0, neu: 1.0, pos: 0.0, \n",
      "It was a fine, thick piece of wood,\n",
      "bulbous-headed, of the sort which is known as a \"Penang lawyer.\"\n",
      "compound: 0.2023, neg: 0.0, neu: 0.899, pos: 0.101, \n",
      "Just under the head was a broad silver band nearly an inch\n",
      "across.\n",
      "compound: 0.0, neg: 0.0, neu: 1.0, pos: 0.0, \n",
      "\"To James Mortimer, M.R.C.S., from his friends of the\n",
      "C.C.H.,\" was engraved upon it, with the date \"1884.\"\n",
      "compound: 0.4767, neg: 0.0, neu: 0.846, pos: 0.154, \n",
      "It was just\n",
      "such a stick as the old-fashioned family practitioner used to\n",
      "carry--dignified, solid, and reassuring.\n",
      "compound: 0.5106, neg: 0.0, neu: 0.765, pos: 0.235, \n"
     ]
    }
   ],
   "source": [
    "# below is the sentiment analysis code rewritten for sentence-level analysis\n",
    "# note the new module -- word_tokenize!\n",
    "import nltk.data\n",
    "from nltk.sentiment.vader import SentimentIntensityAnalyzer\n",
    "from nltk import sentiment\n",
    "from nltk import word_tokenize\n",
    "\n",
    "# Next, we initialize VADER so we can use it within our Python script\n",
    "sid = SentimentIntensityAnalyzer()\n",
    "\n",
    "# We will also initialize our 'english.pickle' function and give it a short name\n",
    "\n",
    "tokenizer = nltk.data.load('tokenizers/punkt/english.pickle')\n",
    "\n",
    "message_text = '''Mr. Sherlock Holmes, who was usually very late in the mornings,\n",
    "save upon those not infrequent occasions when he was up all\n",
    "night, was seated at the breakfast table. I stood upon the\n",
    "hearth-rug and picked up the stick which our visitor had left\n",
    "behind him the night before. It was a fine, thick piece of wood,\n",
    "bulbous-headed, of the sort which is known as a \"Penang lawyer.\"\n",
    "Just under the head was a broad silver band nearly an inch\n",
    "across. \"To James Mortimer, M.R.C.S., from his friends of the\n",
    "C.C.H.,\" was engraved upon it, with the date \"1884.\" It was just\n",
    "such a stick as the old-fashioned family practitioner used to\n",
    "carry--dignified, solid, and reassuring.'''\n",
    "\n",
    "# The tokenize method breaks up the paragraph into a list of strings. In this example, note that the tokenizer is confused by the absence of spaces after periods and actually fails to break up sentences in two instances. How might you fix that?\n",
    "\n",
    "sentences = tokenizer.tokenize(message_text)\n",
    "\n",
    "# We add the additional step of iterating through the list of sentences and calculating and printing polarity scores for each one.\n",
    "\n",
    "for sentence in sentences:\n",
    "        print(sentence)\n",
    "        scores = sid.polarity_scores(sentence)\n",
    "        for key in sorted(scores):\n",
    "                print('{0}: {1}, '.format(key, scores[key]), end='')\n",
    "        print()\n"
   ]
  },
  {
   "cell_type": "markdown",
   "metadata": {},
   "source": [
    "# Markov chain code sentence"
   ]
  },
  {
   "cell_type": "code",
   "execution_count": 19,
   "metadata": {},
   "outputs": [],
   "source": [
    "import markovify\n",
    "import random"
   ]
  },
  {
   "cell_type": "code",
   "execution_count": 20,
   "metadata": {},
   "outputs": [],
   "source": [
    "with open(\"hound.txt\",encoding='utf-8') as f:\n",
    "    text = f.read()"
   ]
  },
  {
   "cell_type": "code",
   "execution_count": 21,
   "metadata": {},
   "outputs": [],
   "source": [
    "text_model = markovify.Text(text)"
   ]
  },
  {
   "cell_type": "code",
   "execution_count": 23,
   "metadata": {},
   "outputs": [
    {
     "name": "stdout",
     "output_type": "stream",
     "text": [
      "Sir Henry was much interested and asked him casually to what I had often been piqued by his good fortune, and many fees to meet and keep up with these requirements.\n"
     ]
    }
   ],
   "source": [
    "print( text_model.make_sentence() )"
   ]
  },
  {
   "cell_type": "markdown",
   "metadata": {},
   "source": [
    "# Markov chain code to generate a longer text fragment "
   ]
  },
  {
   "cell_type": "code",
   "execution_count": 25,
   "metadata": {},
   "outputs": [
    {
     "name": "stdout",
     "output_type": "stream",
     "text": [
      "adventure.txt\n",
      "boer.txt\n",
      "fear.txt\n",
      "hound.txt\n",
      "last.txt\n",
      "memoirs.txt\n",
      "return.txt\n",
      "scarlet.txt\n",
      "sign.txt\n",
      "white.txt\n"
     ]
    }
   ],
   "source": [
    "import os\n",
    "path = 'C:\\\\Users\\\\Stoddard\\\\DesignDevExercises\\\\text\\\\'\n",
    "with os.scandir(path) as entries:\n",
    "    for entry in entries:\n",
    "        print(entry.name)\n",
    "        f = open(f'{path}\\{entry.name}',encoding='utf-8')\n",
    "        text += f.read()"
   ]
  },
  {
   "cell_type": "code",
   "execution_count": 26,
   "metadata": {},
   "outputs": [
    {
     "name": "stdout",
     "output_type": "stream",
     "text": [
      "The hound was dead. John Clayton departed chuckling, and Holmes breathed a word about it yet to mortal man. At first he thought that she had married without his consent, and perhaps for one was in the east of Yorkshire. Both road and every turn of the most direct way is always to do so. He stood now gazing with great reverence at the door and we were dealing with a sudden passion of earnestness. We all three shook hands, and I sat, upon a friend in America. If I could see no better course than to anyone else. \n",
      "\n",
      "By his cries he must have been so entirely cleared up in despair, when in an uproar, some calling for their missing man, but it appeared to be circumspect in the dark veil. There's another one waiting for us to the edge of the night's adventures had shattered his nerves, and before I have tried to picture all that had passed, and he recognized how foolish and how to help the police in any way. Mrs. Lyons knew neither of these a staple and chain with a strong suspicion against Stapleton. One towel passed round the hall, and the long ringlets. Already the first impression. \n",
      "\n",
      "Please, please, be frank with you, but on second thoughts it seemed to be in danger. The result, however, was very dear to me. Get away from his mouth and eyes. \n",
      "\n",
      "On all sides by the presence of a refund. After you left I at once upon my new quest. Eventually, as we ourselves might have softened; but now, when two black-clothed gentlemen sat in silence in the pictures of the hill, and the case within the last man in the old stone huts, and in some ways they have from me, and she, too--she was happy when she answered me. My body has remained a secret to us. Though young, his long back was already invisible, and the old man's death. What it all means I cannot doubt that my friend more completely taken aback than by the baronet's clouded brow that he has an excellent telescope, with which his study table was littered. \n",
      "\n",
      "But there were large rooms furnished with an electronic work is discovered and reported to you in touch with several interesting alternatives. A tall man had fallen into a small lioness. In an instant Stapleton was talking with animation, but the baronet gently opened his eyes. There, sitting together in the presence of a low sun turning the streams to threads of gold and glowing on the alert once more. I told her that since I had got the number of glass-topped cases full of vague fears, pursued my way to South America, establish his identity before the attention of the family sat from the consequences of his own way in everything until he broke at last we were there under the rude lintel, and there is no reason to be strongly attracted by her, and I bind you to drive to where the two thin towers of Baskerville Hall. Sir Henry to the lady's face. I tiptoed down the path. I looked back at us. \n",
      "\n",
      "\n"
     ]
    }
   ],
   "source": [
    "novel = ''\n",
    "while (len( novel.split(\" \")) < 500):# Novel lenght\n",
    "  for i in range(random.randrange(3,9)): # Paragraph structure 3 to 9 sent\n",
    "    novel += text_model.make_sentence() + \" \"\n",
    "  novel += \"\\n\\n\"\n",
    "    # print(text_model.make_sentence()\n",
    "\n",
    "print(novel)\n",
    "# Write a file as .txt to export the production "
   ]
  }
 ],
 "metadata": {
  "interpreter": {
   "hash": "0da26090e65dfd4cdfd0711879594308b8318542197956b2adc85226ab711834"
  },
  "kernelspec": {
   "display_name": "Python 3.8.3 64-bit (conda)",
   "language": "python",
   "name": "python3"
  },
  "language_info": {
   "codemirror_mode": {
    "name": "ipython",
    "version": 3
   },
   "file_extension": ".py",
   "mimetype": "text/x-python",
   "name": "python",
   "nbconvert_exporter": "python",
   "pygments_lexer": "ipython3",
   "version": "3.8.3"
  },
  "orig_nbformat": 4
 },
 "nbformat": 4,
 "nbformat_minor": 2
}
