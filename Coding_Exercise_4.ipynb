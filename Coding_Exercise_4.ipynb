{
 "cells": [
  {
   "cell_type": "code",
   "execution_count": 1,
   "source": [
    "print (\"Let's start coding...)\")"
   ],
   "outputs": [
    {
     "output_type": "stream",
     "name": "stdout",
     "text": [
      "Let's start coding...)\n"
     ]
    }
   ],
   "metadata": {}
  },
  {
   "cell_type": "code",
   "execution_count": 2,
   "source": [
    "print (\"Now I shall begin Coding Exercise 4!\")"
   ],
   "outputs": [
    {
     "output_type": "stream",
     "name": "stdout",
     "text": [
      "Now I shall begin Coding Exercise 4!\n"
     ]
    }
   ],
   "metadata": {}
  },
  {
   "cell_type": "code",
   "execution_count": 6,
   "source": [
    "# For this exercise, you should start by reading in the text file produced from Exercise Three. This text file should already have the HTML code elements removed, and primarily consist of text and other characters that we will remove through our processing. Store the input of your file in a string, and convert the contents to lower case for consistency.\r\n",
    "\r\n",
    "f = open('FMJ_Reviews_Clean.txt', 'r')\r\n",
    "text = f.read()\r\n",
    "f.close()\r\n",
    "\r\n",
    "word_bag = text.split()\r\n",
    "print(word_bag[0:100])\r\n"
   ],
   "outputs": [
    {
     "output_type": "stream",
     "name": "stdout",
     "text": [
      "['Andrew', 'Pollard', 'Starburst', 'Sep', '24,', '2020', 'A', 'hard-hitting', 'movie', 'laced', 'with', 'moments', 'of', 'dark', 'humour', 'and', 'brimming', 'with', 'social', 'commentary,', 'Full', 'Metal', 'Jacket', 'is', 'viewed', 'as', 'one', 'of', 'the', 'all-time', 'great', 'war', 'movie.', 'Full', 'Review', '|', 'Original', 'Score:', '5/5', 'Allison', 'Rose', 'FlickDirect', 'Sep', '22,', '2020', 'Kubrick', 'had', 'a', 'way', 'of', 'making', 'the', 'audience', 'become', 'invested', 'in', 'the', 'characters', 'of', 'his', 'films', 'and', 'created', 'some', 'truly', 'memorable', 'ones.', 'Full', 'Review', '|', 'Original', 'Score:', '4.5/5', 'Richard', 'Propes', 'TheIndependentCritic.com', 'Sep', '8,', '2020', 'It', 'was', 'a', 'gross', 'injustice', 'that', 'Ermey', 'was', 'not', 'nominated', 'for', 'his', 'tremendous', 'performance.', 'Full', 'Review', '|', 'Original', 'Score:', '3.5/4.0', 'Mike']\n"
     ]
    }
   ],
   "metadata": {}
  },
  {
   "cell_type": "code",
   "execution_count": 7,
   "source": [
    "# Conversion to lower case.\r\n",
    "text = text.lower()\r\n",
    "word_bag = text.split()\r\n",
    "print(word_bag[0:100])"
   ],
   "outputs": [
    {
     "output_type": "stream",
     "name": "stdout",
     "text": [
      "['andrew', 'pollard', 'starburst', 'sep', '24,', '2020', 'a', 'hard-hitting', 'movie', 'laced', 'with', 'moments', 'of', 'dark', 'humour', 'and', 'brimming', 'with', 'social', 'commentary,', 'full', 'metal', 'jacket', 'is', 'viewed', 'as', 'one', 'of', 'the', 'all-time', 'great', 'war', 'movie.', 'full', 'review', '|', 'original', 'score:', '5/5', 'allison', 'rose', 'flickdirect', 'sep', '22,', '2020', 'kubrick', 'had', 'a', 'way', 'of', 'making', 'the', 'audience', 'become', 'invested', 'in', 'the', 'characters', 'of', 'his', 'films', 'and', 'created', 'some', 'truly', 'memorable', 'ones.', 'full', 'review', '|', 'original', 'score:', '4.5/5', 'richard', 'propes', 'theindependentcritic.com', 'sep', '8,', '2020', 'it', 'was', 'a', 'gross', 'injustice', 'that', 'ermey', 'was', 'not', 'nominated', 'for', 'his', 'tremendous', 'performance.', 'full', 'review', '|', 'original', 'score:', '3.5/4.0', 'mike']\n"
     ]
    }
   ],
   "metadata": {}
  },
  {
   "cell_type": "code",
   "execution_count": 8,
   "source": [
    "# Storing new lowercase txt file of reviews.\r\n",
    "f = open('FMJ_Reviews_Clean_Lower.txt','w')\r\n",
    "f.write(text)\r\n",
    "f.close()"
   ],
   "outputs": [],
   "metadata": {}
  },
  {
   "cell_type": "code",
   "execution_count": 9,
   "source": [
    "# This week, we'll be using functions that we've already defined in our exercises. Try looking back through your code and notes from class. Our first step is to import the regular expressions module and remove all non-alpha-numeric characters from the string, then save the string as an array of words ready for processing. (Use the code in NormalizingText for reference)\r\n",
    "\r\n",
    "#Opening new lowerscase version of reviews.\r\n",
    "f = open('FMJ_Reviews_Clean_Lower.txt', 'r')\r\n",
    "text = f.read()\r\n",
    "f.close()\r\n",
    "\r\n",
    "wtext = text.lower()\r\n",
    "# RE = regualr expressions. Importing the library of re.  They are how we understadn the relations of text.  Using this here to only retunr alphanumeric characters in our txt file. Notice, it did not get rid of all the problem content (r's and n's).\r\n",
    "import re\r\n",
    "word_bag = re.compile(r'\\W+', re.UNICODE).split(text)\r\n",
    "print(word_bag[0:100])"
   ],
   "outputs": [
    {
     "output_type": "stream",
     "name": "stdout",
     "text": [
      "['andrew', 'pollard', 'starburst', 'sep', '24', '2020', 'a', 'hard', 'hitting', 'movie', 'laced', 'with', 'moments', 'of', 'dark', 'humour', 'and', 'brimming', 'with', 'social', 'commentary', 'full', 'metal', 'jacket', 'is', 'viewed', 'as', 'one', 'of', 'the', 'all', 'time', 'great', 'war', 'movie', 'full', 'review', 'original', 'score', '5', '5', 'allison', 'rose', 'flickdirect', 'sep', '22', '2020', 'kubrick', 'had', 'a', 'way', 'of', 'making', 'the', 'audience', 'become', 'invested', 'in', 'the', 'characters', 'of', 'his', 'films', 'and', 'created', 'some', 'truly', 'memorable', 'ones', 'full', 'review', 'original', 'score', '4', '5', '5', 'richard', 'propes', 'theindependentcritic', 'com', 'sep', '8', '2020', 'it', 'was', 'a', 'gross', 'injustice', 'that', 'ermey', 'was', 'not', 'nominated', 'for', 'his', 'tremendous', 'performance', 'full', 'review', 'original']\n"
     ]
    }
   ],
   "metadata": {}
  },
  {
   "cell_type": "code",
   "execution_count": 15,
   "source": [
    "# Next, we'll use stop words to remove all the words that we don't want to include in our count. There are suggested words in this week's readings, but you can also generate a custom list based on your topic. Define the stop words in an array, and use a loop to remove any word in your bag of words that also appears on the stop words list (use the examples in Dictionaries for guidance.)\r\n",
    "\r\n",
    "# sets up a stops words function as an array.\r\n",
    "stopwords = ['a','n','the','my', 'with', 'of', 'and', 'is', 'as']\r\n",
    "stopwords += ['i', 'that', 'was', 'it', 'for', 'this']\r\n",
    "stopwords += ['s', 'on', 'to', 'an', 'but', 'from', 'in', 'us', 'all']\r\n",
    "# Applies stop words to bag of words and only returns unstopped words.\r\n",
    "def removeStopWords(word_bag, stopwords):\r\n",
    "    return [w for w in word_bag if w not in stopwords]\r\n",
    "# Below is the test of the fucntion, can replace with my own dataset.\r\n",
    "stoped_word_bag = removeStopWords(word_bag, stopwords)\r\n",
    "# counted_words = wordsToDictionary(word_bag)\r\n",
    "# ounted_words = sortDictionary(counted_words)\r\n",
    "print(stoped_word_bag[0:500])\r\n",
    "# Now we can see whats really in our text."
   ],
   "outputs": [
    {
     "output_type": "stream",
     "name": "stdout",
     "text": [
      "['andrew', 'pollard', 'starburst', 'sep', '24', '2020', 'hard', 'hitting', 'movie', 'laced', 'moments', 'dark', 'humour', 'brimming', 'social', 'commentary', 'full', 'metal', 'jacket', 'viewed', 'one', 'time', 'great', 'war', 'movie', 'full', 'review', 'original', 'score', '5', '5', 'allison', 'rose', 'flickdirect', 'sep', '22', '2020', 'kubrick', 'had', 'way', 'making', 'audience', 'become', 'invested', 'characters', 'his', 'films', 'created', 'some', 'truly', 'memorable', 'ones', 'full', 'review', 'original', 'score', '4', '5', '5', 'richard', 'propes', 'theindependentcritic', 'com', 'sep', '8', '2020', 'gross', 'injustice', 'ermey', 'not', 'nominated', 'his', 'tremendous', 'performance', 'full', 'review', 'original', 'score', '3', '5', '4', '0', 'mike', 'massie', 'gone', 'twins', 'sep', '6', '2020', 'nicely', 'contrasting', 'soundtrack', 'intense', 'action', 'sequences', 'mesmerizing', 'sets', 'excellent', 'photography', 'believable', 'characters', 'contribute', 'poignant', 'thriller', 'full', 'review', 'original', 'score', '8', '10', 'ed', 'travis', 'hollywood', 'jesus', 'mar', '31', '2020', 'full', 'metal', 'jacket', 'master', 'study', 'indoctrination', 'fundamental', 'identity', 'shifts', 'every', 'moment', 'film', 'builds', 'builds', 'kubrick', 'ideas', 'full', 'review', 'hilary', 'mantel', 'spectator', 'apr', '9', '2019', 'we', 'look', 'director', 'some', 'judgment', 'or', 'even', 'indication', 'his', 'opinion', 'whether', 'his', 'carnage', 'artists', 'are', 'born', 'or', 'made', 'we', 'don', 't', 'get', 'full', 'review', 'jack', 'garner', 'gannett', 'news', 'service', 'feb', '9', '2019', 'electrifying', 'opening', 'segment', 'could', 'stand', 'alone', 'one', 'kubrick', 'great', 'films', 'except', 'only', 'about', '45', 'minutes', 'long', 'full', 'review', 'original', 'score', '2', '5', '4', 'stanley', 'kauffmann', 'new', 'republic', 'nov', '6', '2017', 'full', 'metal', 'jacket', 'seems', 'further', 'proof', 'kubrick', 'still', 'trapped', 'self', 'pleasing', 'cinematic', 'exercise', 'full', 'review', 'cathy', 'burke', 'united', 'press', 'international', 'oct', '9', '2016', 'full', 'metal', 'jacket', 'produced', 'directed', 'co', 'written', 'by', 'stanley', 'kubrick', 'not', 'easy', 'film', 'watch', 'first', 'frame', 'last', 'riveting', 'one', 'full', 'review', 'john', 'rico', 'about', 'com', 'oct', '25', '2015', 'one', 'classics', 'war', 'cinema', 'not', 'nearly', 'good', 'its', 'legend', 'suggests', 'pretty', 'good', 'full', 'review', 'original', 'score', '1', '5', 'peter', 'travers', 'people', 'magazine', 'jun', '24', '2015', 'kubrick', 'genius', 'perhaps', 'burden', 'see', 'insanity', 'make', 'seem', 'so', 'terrifyingly', 'normal', 'david', 'nusair', 'reel', 'film', 'reviews', 'jan', '9', '2015', 'justifiably', 'iconic', 'war', 'film', 'full', 'review', 'original', 'score', '3', '5', '4', 'tim', 'brayton', 'antagony', 'amp', 'ecstasy', 'jul', '5', '2014', 'one', 'kubrick', 'foremost', 'triumphs', 'genuinely', 'challenging', 'uncomfortable', 'war', 'film', 'full', 'review', 'original', 'score', '10', '10', 'terrence', 'rafferty', 'nation', 'jun', '21', '2013', 'no', 'amount', 'stylistic', 'analysis', 'however', 'likely', 'explain', 'why', 'man', 'would', 'devote', 'more', 'than', 'three', 'years', 'his', 'life', 'making', 'war', 'movie', 'which', 'violent', 'death', 'isn', 't', 'meant', 'move', 'does', 'kubrick', 'really', 'think', 'we', 're', 'not', 'callous', 'enough', 'about', 'war', 'full', 'review', 'adrian', 'turner', 'radio', 'times', 'jun', '21', '2013', 'while', 'its', 'message', 'simple', 'innocent', 'young', 'americans', 'are', 'taught', 'be', 'machine', 'like', 'killers', 'its', 'technique', 'extraordinary', 'full', 'review', 'original', 'score', '5', '5', 'ben', 'yagoda', 'philadelphia', 'daily', 'news', 'jun', '21', '2013', 'if', 'film', 'doesn', 't', 'give', 'people', 'has', 'offer', 'substitute', 'idea', 'style', 'vision', 'full', 'metal', 'jacket', 'comes', 'up', 'blank', 'full', 'review', 'desmond', 'ryan', 'philadelphia', 'inquirer', 'jun', '21', '2013', 'if', 'his', 'considerable', 'achievement', 'long', 'awaited', 'film', 'falls', 'short', 'his', 'olympian', 'standards', 'there', 'reason', 'ought', 'give', 'kubrick', 'some', 'satisfaction', 'world', 'has', 'caught', 'up', 'kubrick', 'what', 'he', 'has', 'say', 'full', 'review', 'original', 'score', '3', '4', 'david', 'sterritt', 'christian', 'science', 'monitor', 'jun', '21', '2013', 'relentlessly', 'harsh', 'its', 'images', 'language', 'full', 'metal', 'jacket', 'nonetheless', 'most', 'artful', 'film', 'yet', 'made', 'about', 'vietnam']\n"
     ]
    }
   ],
   "metadata": {}
  },
  {
   "cell_type": "code",
   "execution_count": null,
   "source": [
    "# Now we're ready to count our words, and move from an array to a dictionary. Using the functions we've already built in the \"Dictionaries.ipynb\" file, process your text by building a dictionary that zips words with their frequency, then removes redundancy by storing the data in the \"dictionary\" format."
   ],
   "outputs": [],
   "metadata": {}
  },
  {
   "cell_type": "code",
   "execution_count": null,
   "source": [
    "# Finally, explore what you can learn from this dictionary. Try: \r\n",
    "# A. Sorting your dictionary using our prebuilt method\r\n",
    "# B. Printing the top five most frequent words from your data\r\n",
    "# C. Querying for certain key words and printing their frequency\r\n",
    "# D. Comparing the relative frequency of words of interest"
   ],
   "outputs": [],
   "metadata": {}
  }
 ],
 "metadata": {
  "orig_nbformat": 4,
  "language_info": {
   "name": "python",
   "version": "3.7.6",
   "mimetype": "text/x-python",
   "codemirror_mode": {
    "name": "ipython",
    "version": 3
   },
   "pygments_lexer": "ipython3",
   "nbconvert_exporter": "python",
   "file_extension": ".py"
  },
  "kernelspec": {
   "name": "python3",
   "display_name": "Python 3.7.6 64-bit (conda)"
  },
  "interpreter": {
   "hash": "384b16392d5df87b45fa68fd804fdd570b449e149e441c1270eb35604a8982f7"
  }
 },
 "nbformat": 4,
 "nbformat_minor": 2
}