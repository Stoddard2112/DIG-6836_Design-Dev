{
 "cells": [
  {
   "cell_type": "code",
   "execution_count": null,
   "source": [
    "# Creates string with a name and fills it with content\r\n",
    "our_string = \"Hello again, world!\"\r\n",
    "print(our_string)"
   ],
   "outputs": [
    {
     "output_type": "stream",
     "name": "stdout",
     "text": [
      "Hello again, world!\n"
     ]
    }
   ],
   "metadata": {}
  },
  {
   "cell_type": "code",
   "execution_count": 2,
   "source": [
    "# counts number of characters in the string\r\n",
    "our_length = len(our_string)\r\n",
    "print(\"Length: \" + str(our_length))"
   ],
   "outputs": [
    {
     "output_type": "stream",
     "name": "stdout",
     "text": [
      "Length: 19\n"
     ]
    }
   ],
   "metadata": {}
  },
  {
   "cell_type": "code",
   "execution_count": 3,
   "source": [
    "# counts to first appearance of the letter a\r\n",
    "print(\"Index of a: \" + str(our_string.index(\"a\")))\r\n",
    "# This will count how many l's\r\n",
    "print(\"Occurences of l: \" + str(our_string.count(\"l\")))\r\n",
    "# Slice will print characters from first index to last, in this case 3 to 8\r\n",
    "print(\"Slice from index 3 to 8: \" + our_string[3:8])"
   ],
   "outputs": [
    {
     "output_type": "stream",
     "name": "stdout",
     "text": [
      "Index of a: 6\n",
      "Occurences of l: 3\n",
      "Slice from index 3 to 8: lo ag\n"
     ]
    }
   ],
   "metadata": {}
  },
  {
   "cell_type": "code",
   "execution_count": 4,
   "source": [
    "# Converts whole string to upper case\r\n",
    "print(\"Upper case: \" + our_string.upper())\r\n",
    "# Converts whole string to lower case\r\n",
    "print(\"Lower case: \" + our_string.lower())"
   ],
   "outputs": [
    {
     "output_type": "stream",
     "name": "stdout",
     "text": [
      "Upper case: HELLO AGAIN, WORLD!\n",
      "Lower case: hello again, world!\n"
     ]
    }
   ],
   "metadata": {}
  },
  {
   "cell_type": "code",
   "execution_count": 5,
   "source": [
    "# Reverses contnet of string, becasue python reads in order of characters\r\n",
    "print(our_string[::-1])"
   ],
   "outputs": [
    {
     "output_type": "stream",
     "name": "stdout",
     "text": [
      "!dlrow ,niaga olleH\n"
     ]
    }
   ],
   "metadata": {}
  },
  {
   "cell_type": "code",
   "execution_count": 6,
   "source": [
    "# split can occur wherever you tell it to.  characters as group (words), this command splits string to show again in the middle.\r\n",
    "split_string = our_string.split(\" \")\r\n",
    "print(split_string[1])"
   ],
   "outputs": [
    {
     "output_type": "stream",
     "name": "stdout",
     "text": [
      "again,\n"
     ]
    }
   ],
   "metadata": {}
  },
  {
   "cell_type": "code",
   "execution_count": 10,
   "source": [
    "# This gives true false evals of string, boolian values\r\n",
    "print(our_string.startswith(\"Hello\"))\r\n",
    "print(our_string.endswith(\"earth\"))"
   ],
   "outputs": [
    {
     "output_type": "stream",
     "name": "stdout",
     "text": [
      "True\n",
      "False\n"
     ]
    }
   ],
   "metadata": {}
  },
  {
   "cell_type": "code",
   "execution_count": 2,
   "source": [
    "# Creates string with a name and fills it with content\r\n",
    "our_string = \"Hello again, again, world!  What is up?\"\r\n",
    "print(our_string)"
   ],
   "outputs": [
    {
     "output_type": "stream",
     "name": "stdout",
     "text": [
      "Hello again, again, world!  What is up?\n"
     ]
    }
   ],
   "metadata": {}
  }
 ],
 "metadata": {
  "kernelspec": {
   "name": "python3",
   "display_name": "Python 3.8.3 64-bit"
  },
  "language_info": {
   "codemirror_mode": {
    "name": "ipython",
    "version": 3
   },
   "file_extension": ".py",
   "mimetype": "text/x-python",
   "name": "python",
   "nbconvert_exporter": "python",
   "pygments_lexer": "ipython3",
   "version": "3.8.3"
  },
  "interpreter": {
   "hash": "0da26090e65dfd4cdfd0711879594308b8318542197956b2adc85226ab711834"
  }
 },
 "nbformat": 4,
 "nbformat_minor": 4
}