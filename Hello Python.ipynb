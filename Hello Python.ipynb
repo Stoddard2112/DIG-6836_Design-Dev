{
 "cells": [
  {
   "cell_type": "code",
   "execution_count": 1,
   "source": [
    "print(\"Hello, World!\\nWhat should I do?\")"
   ],
   "outputs": [
    {
     "output_type": "stream",
     "name": "stdout",
     "text": [
      "Hello, World!\n",
      "What should I do today?\n"
     ]
    }
   ],
   "metadata": {}
  },
  {
   "cell_type": "code",
   "execution_count": 2,
   "source": [
    "print(\"2 + 2 is\", 2 + 2)\r\n",
    "print(\"3 * 4 is\", 3 * 4)\r\n",
    "print(\"100 - 1 is\", 100 - 1)\r\n",
    "print(\"(33 + 2) / 5 + 11.5 is\", (33 + 2) / 5 + 11.5)"
   ],
   "outputs": [
    {
     "output_type": "stream",
     "name": "stdout",
     "text": [
      "2 + 2 is 4\n",
      "3 * 4 is 12\n",
      "100 - 1 is 99\n",
      "(33 + 2) / 5 + 11.5 is 18.5\n"
     ]
    }
   ],
   "metadata": {}
  },
  {
   "cell_type": "code",
   "execution_count": null,
   "source": [],
   "outputs": [],
   "metadata": {}
  }
 ],
 "metadata": {
  "kernelspec": {
   "name": "python3",
   "display_name": "Python 3.8.3 64-bit (conda)"
  },
  "language_info": {
   "codemirror_mode": {
    "name": "ipython",
    "version": 3
   },
   "file_extension": ".py",
   "mimetype": "text/x-python",
   "name": "python",
   "nbconvert_exporter": "python",
   "pygments_lexer": "ipython3",
   "version": "3.8.3"
  },
  "interpreter": {
   "hash": "0da26090e65dfd4cdfd0711879594308b8318542197956b2adc85226ab711834"
  }
 },
 "nbformat": 4,
 "nbformat_minor": 4
}