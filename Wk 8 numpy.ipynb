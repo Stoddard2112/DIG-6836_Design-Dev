{
 "cells": [
  {
   "cell_type": "code",
   "execution_count": 1,
   "metadata": {},
   "outputs": [
    {
     "data": {
      "text/plain": [
       "999999999"
      ]
     },
     "execution_count": 1,
     "metadata": {},
     "output_type": "execute_result"
    }
   ],
   "source": [
    "# documentation: https://opensource.com/article/21/9/python-numpy\n",
    "# numpy is numbers, time, and math for python\n",
    "import numpy as np\n",
    "import time as time\n",
    "\n",
    "my_list = range(1, 1000000000)\n",
    "len(my_list)"
   ]
  },
  {
   "cell_type": "code",
   "execution_count": 2,
   "metadata": {},
   "outputs": [
    {
     "name": "stdout",
     "output_type": "stream",
     "text": [
      "Time elapsed in milliseconds: 96127.19058990479\n"
     ]
    }
   ],
   "source": [
    "# Finding the minimum value, by python asking every item if its the smallest item.  Rather inefficient, especially for larger datasets.  Draws a lot of memory to run function.\n",
    "start = time.time()\n",
    "min(my_list)\n",
    "\n",
    "print('Time elapsed in milliseconds: ' + str((time.time() - start) * 1000))"
   ]
  },
  {
   "cell_type": "code",
   "execution_count": 3,
   "metadata": {},
   "outputs": [],
   "source": [
    "# same as above, but within a range.  So it will only ask for smallest within the range.  Much quicker.\n",
    "# Good for setting programs to run at intervals, so big data pull doesn't happen all at once.Helps with rate limited issues on websites, look like doing it by hand when scrapping.\n",
    "\n",
    "my_list = np.arange(1, 1000000000)\n",
    "\n",
    "# Grabs time when it gets to the minimum, how log it took to make the lsit.  Checks time right before and right after.\n",
    "start = time.time()\n",
    "my_list.min()\n",
    "\n",
    "print('Time elapsed in milliseconds: ' + str((time.time() - start) * 1000))"
   ]
  },
  {
   "cell_type": "code",
   "execution_count": 9,
   "metadata": {},
   "outputs": [
    {
     "name": "stdout",
     "output_type": "stream",
     "text": [
      "[1 2 3 4 5]\n"
     ]
    },
    {
     "data": {
      "text/plain": [
       "numpy.ndarray"
      ]
     },
     "execution_count": 9,
     "metadata": {},
     "output_type": "execute_result"
    }
   ],
   "source": [
    "# Building multi dimensional (md) arrays.  This is so you can use arrays with numpy.\n",
    "my_ndarray = np.array([1, 2, 3, 4, 5])\n",
    "print(my_ndarray)\n",
    "# This is a type check, in this case confirming it is a numpy md array.\n",
    "type(my_ndarray)"
   ]
  },
  {
   "cell_type": "code",
   "execution_count": 11,
   "metadata": {},
   "outputs": [
    {
     "data": {
      "text/plain": [
       "(2, 3)"
      ]
     },
     "execution_count": 11,
     "metadata": {},
     "output_type": "execute_result"
    }
   ],
   "source": [
    "# Creating lists with np md arrays\n",
    "np.shape(my_ndarray)\n",
    "# 2 sets of 3 items, there for its shape is 2, 3. \n",
    "my_ndarray2 = np.array([(1, 2, 3), (4, 5, 6)])\n",
    "np.shape(my_ndarray2)"
   ]
  },
  {
   "cell_type": "code",
   "execution_count": 16,
   "metadata": {},
   "outputs": [
    {
     "data": {
      "text/plain": [
       "5"
      ]
     },
     "execution_count": 16,
     "metadata": {},
     "output_type": "execute_result"
    }
   ],
   "source": [
    "my_ndarray.dtype\n",
    "# How much stuff is in the array\n",
    "my_ndarray.size"
   ]
  },
  {
   "cell_type": "code",
   "execution_count": 13,
   "metadata": {},
   "outputs": [
    {
     "name": "stdout",
     "output_type": "stream",
     "text": [
      "[1. 2. 3.]\n"
     ]
    },
    {
     "data": {
      "text/plain": [
       "dtype('float64')"
      ]
     },
     "execution_count": 13,
     "metadata": {},
     "output_type": "execute_result"
    }
   ],
   "source": [
    "# Irem's relationship to one another, determined by largest item in the set.   Integers, whole numbers are simpleist way.  As soon as decimal is involved, all numbers are floats and things get more complicated.\n",
    "my_ndarray2 = np.array([1, 2.0, 3])\n",
    "print(my_ndarray2)\n",
    "my_ndarray2.dtype"
   ]
  },
  {
   "cell_type": "code",
   "execution_count": 14,
   "metadata": {},
   "outputs": [
    {
     "name": "stdout",
     "output_type": "stream",
     "text": [
      "['1' '2' '3']\n"
     ]
    },
    {
     "data": {
      "text/plain": [
       "dtype('<U11')"
      ]
     },
     "execution_count": 14,
     "metadata": {},
     "output_type": "execute_result"
    }
   ],
   "source": [
    "# A string screws it up too\n",
    "my_ndarray2 = np.array([1, '2', 3])\n",
    "print(my_ndarray2)\n",
    "my_ndarray2.dtype\n",
    "# u11 measn it can't compute beccause it is a string"
   ]
  },
  {
   "cell_type": "code",
   "execution_count": 17,
   "metadata": {},
   "outputs": [
    {
     "name": "stdout",
     "output_type": "stream",
     "text": [
      "[[0 0 0]\n",
      " [0 0 0]]\n"
     ]
    }
   ],
   "source": [
    "# Creating boxes for arrays, 2 sets of 3 items in each.  Minesweeper grid.\n",
    "my_ndarray = np.zeros([2,3], dtype=int)\n",
    "print(my_ndarray)"
   ]
  },
  {
   "cell_type": "code",
   "execution_count": 18,
   "metadata": {},
   "outputs": [
    {
     "name": "stdout",
     "output_type": "stream",
     "text": [
      "[[10 10 10]\n",
      " [10 10 10]]\n"
     ]
    }
   ],
   "source": [
    "# As above, but filling boxes with 10.  Good for starting structural data\n",
    "my_ndarray = np.full([2,3], 10, dtype=int)\n",
    "print(my_ndarray)"
   ]
  },
  {
   "cell_type": "code",
   "execution_count": 19,
   "metadata": {},
   "outputs": [
    {
     "name": "stdout",
     "output_type": "stream",
     "text": [
      "[[1 0 0]\n",
      " [0 1 0]\n",
      " [0 0 1]]\n"
     ]
    }
   ],
   "source": [
    "# Diagonal array needs, like multiplication \n",
    "my_ndarray = np.eye(3, dtype=int)\n",
    "print(my_ndarray)"
   ]
  },
  {
   "cell_type": "code",
   "execution_count": 21,
   "metadata": {},
   "outputs": [
    {
     "name": "stdout",
     "output_type": "stream",
     "text": [
      "[ 1  4  7 10 13 16 19]\n",
      "[ 7 10]\n"
     ]
    }
   ],
   "source": [
    "# a range function that fills on intervals\n",
    "my_ndarray = np.arange(1, 20, 3)\n",
    "print(my_ndarray)\n",
    "print(my_ndarray[2:4])"
   ]
  },
  {
   "cell_type": "code",
   "execution_count": 22,
   "metadata": {},
   "outputs": [
    {
     "name": "stdout",
     "output_type": "stream",
     "text": [
      "[  1   4   7  10  13  16 100]\n"
     ]
    }
   ],
   "source": [
    "# array generaato with intervals\n",
    "my_ndarray[-1:] = 100\n",
    "print(my_ndarray)"
   ]
  },
  {
   "cell_type": "code",
   "execution_count": 24,
   "metadata": {},
   "outputs": [
    {
     "name": "stdout",
     "output_type": "stream",
     "text": [
      "[ 7  9 11 13 15]\n",
      "[5 5 5 5 5]\n",
      "[ 6 14 24 36 50]\n"
     ]
    }
   ],
   "source": [
    "# Adding subtracting and multiplying arrays\n",
    "# first 2 lines define the arrays, last 3 run the math problems.  Useful for text analysis of term freq accross a number of texts.  Freq of monster times the 3 books\n",
    "my_ndarray = np.array([1, 2, 3, 4, 5])\n",
    "my_ndarray2 = np.array([6, 7, 8, 9, 10])\n",
    "\n",
    "print(my_ndarray2 + my_ndarray)\n",
    "print(my_ndarray2 - my_ndarray)\n",
    "print(my_ndarray2 * my_ndarray)\n"
   ]
  },
  {
   "cell_type": "code",
   "execution_count": 25,
   "metadata": {},
   "outputs": [
    {
     "name": "stdout",
     "output_type": "stream",
     "text": [
      "[1 2 3 4 5]\n"
     ]
    }
   ],
   "source": [
    "# Sorts values from out of order to in order\n",
    "my_ndarray = np.array([3, 1, 2, 5, 4])\n",
    "my_ndarray.sort()\n",
    "print(my_ndarray)"
   ]
  },
  {
   "cell_type": "code",
   "execution_count": 26,
   "metadata": {},
   "outputs": [
    {
     "name": "stdout",
     "output_type": "stream",
     "text": [
      "[1 2 3 4 5]\n",
      "[3 1 2 5 4]\n"
     ]
    }
   ],
   "source": [
    "# As above, but with maintaining original out of order array\n",
    "my_ndarray = np.array([3, 1, 2, 5, 4])\n",
    "print(np.sort(my_ndarray))\n",
    "print(my_ndarray)"
   ]
  }
 ],
 "metadata": {
  "interpreter": {
   "hash": "384b16392d5df87b45fa68fd804fdd570b449e149e441c1270eb35604a8982f7"
  },
  "kernelspec": {
   "display_name": "Python 3.7.6 64-bit (conda)",
   "name": "python3"
  },
  "language_info": {
   "codemirror_mode": {
    "name": "ipython",
    "version": 3
   },
   "file_extension": ".py",
   "mimetype": "text/x-python",
   "name": "python",
   "nbconvert_exporter": "python",
   "pygments_lexer": "ipython3",
   "version": "3.7.6"
  },
  "orig_nbformat": 4
 },
 "nbformat": 4,
 "nbformat_minor": 2
}
