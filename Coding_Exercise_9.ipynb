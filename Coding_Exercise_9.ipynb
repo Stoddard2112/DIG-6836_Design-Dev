{
 "cells": [
  {
   "cell_type": "markdown",
   "metadata": {},
   "source": [
    "# Exercise Nine: Numbers\n",
    "\n",
    "This week, you'll be exploring the [GSS](https://gssdataexplorer.norc.org/) dataset we worked within in the \"Social Stats\" exercise. Using our demo and the textbook as a guide, pick three new variables to explore. Your workflow should:\n",
    "\n",
    "- 1 Import the current version of the file (available for download at the link above), and isolate the columns of interest based on the variables you want to include\n",
    "- 2 Using the variable navigator provided by GSS, determine the years applicable and narrow your dataset accordingly.\n",
    "- 3 Visualize at least two quantiative relationships or patterns: these might include connections between clear numerical values, such as age and income, or more complex visualizations based on boolean data (for example, our \"yes\" and \"no\" to reading fiction.)\n",
    "- 4 Group the data using at least two different divisions to spot interesting trends, and plot at least one variance across a group (refer to our example of happiness among fiction readers as a starting point.)\n",
    "\n",
    "For a bonus challenge, try running another analysis using an advanced method such as summary statistics or cross tabulation."
   ]
  },
  {
   "cell_type": "markdown",
   "metadata": {},
   "source": [
    "## Methodology for Determining Search Codes \n",
    "\n",
    "I am interested in the intersection of military service, firearm ownership, and support for legalization of marijuana.  Through various searches in the GSS Codebook, I found the following applicable codes.  \n",
    "\n",
    "- MILWRKEV - EVER WORK FOR MILITARY OR DOD?\n",
    "- MILWRKNW - CURRENTLY WORK FOR MILITARY OR DOD?\n",
    "- VETAID - ANY IN HH RECEIVE MIL OR VET BENEFITS\n",
    "- MEMVET - MEMBERSHIP IN VETERAN GROUP\n",
    "- GUNLAW - FAVOR OR OPPOSE GUN PERMITS\n",
    "- OWNGUN - HAVE GUN IN HOME\n",
    "- GUNSDRNK - SHOULD CARRYING A FIREARM DRINKING ALCOHOL BE ILLEGAL\n",
    "- GRASS - SHOULD MARIJUANA BE MADE LEGAL\n",
    "- GRASSY - SHOULD MARIJUANA BE LEGAL-VERSION\n",
    "\n",
    "Unfortunately, I could not find a simple yes or no code for military service.  The closest codes I found were MILWRKNW and MEMVET.  Both have their draw backs.  MILWRKNW could refer to both military personnel and civilians working for the military.  MEMVET would specifically deal with veterans, as vet groups require military service, but this is a smaller subset than just being a veteran.  I’ve decided to use MILWRKNW as a stand in for ‘yes or no military service.’ as this code may most widely capture the kind of individual I am interested in. \n",
    "\n",
    "I will use OWNGUN for firearm ownership, as this is a relatively straightforward code.  If someone owns a gun, one would assume they support gun ownership.  I will use GRASS for approval of marijuana legalization.\n",
    "\n",
    "I will also include some basic demographic codes in my searches to further parse the data.\n",
    "\n",
    "## Years of Interest\n",
    "\n",
    "I chose to focus on four years: 1975, 1991, 2007, 2018.  Except for 2018, these years signify important years in American military history.  1975 marked the end of the Vietnam War.  The Persian Gulf War occurred in 1991.  2007 marks a point of high intensity for the Global War on Terror, specifically with the troop surge in Iraq.  2018 is the last year of available data.  I will use this year to assess current opinions."
   ]
  },
  {
   "cell_type": "markdown",
   "metadata": {},
   "source": [
    "# Step one and two\n",
    "\n",
    "import the current version of the file (available for download at the link above), and isolate the columns of interest based on the variables you want to include\n",
    "\n",
    "sing the variable navigator provided by GSS, determine the years applicable and narrow your dataset accordingly."
   ]
  },
  {
   "cell_type": "code",
   "execution_count": 27,
   "metadata": {},
   "outputs": [
    {
     "name": "stdout",
     "output_type": "stream",
     "text": [
      "<bound method NDFrame.head of          id  year age     sex   race memvet owngun      grass\n",
      "4601      1  1975  38    male  white     no    NaN  NOT LEGAL\n",
      "4602      2  1975  20  female  white     no    NaN  NOT LEGAL\n",
      "4603      3  1975  61  female  white     no    NaN  NOT LEGAL\n",
      "4604      4  1975  19    male  white     no    NaN      legal\n",
      "4605      5  1975  28    male  white     no    NaN      legal\n",
      "...     ...   ...  ..     ...    ...    ...    ...        ...\n",
      "64809  2344  2018  37  female  white    NaN     no        NaN\n",
      "64810  2345  2018  75  female  white    NaN     no        NaN\n",
      "64811  2346  2018  67  female  white    NaN    yes      legal\n",
      "64812  2347  2018  72    male  white    NaN    NaN  NOT LEGAL\n",
      "64813  2348  2018  79  female  white    NaN    yes        NaN\n",
      "\n",
      "[5355 rows x 8 columns]>\n"
     ]
    }
   ],
   "source": [
    "import pandas as pd\n",
    "\n",
    "columns = ['id', 'year', 'age', 'sex', 'race', 'memvet', 'owngun', 'grass']\n",
    "df = pd.read_stata(\"GSS7218_R1.dta\", columns=columns)\n",
    "\n",
    "df = df.loc[df['year'].isin({1975, 1991, 2007, 2018})]\n",
    "print(df.head)"
   ]
  },
  {
   "cell_type": "code",
   "execution_count": 28,
   "metadata": {},
   "outputs": [
    {
     "name": "stdout",
     "output_type": "stream",
     "text": [
      "<bound method NDFrame.head of          id  year age     sex   race memvet owngun      grass\n",
      "4601      1  1975  38    male  white     no    NaN  NOT LEGAL\n",
      "4602      2  1975  20  female  white     no    NaN  NOT LEGAL\n",
      "4603      3  1975  61  female  white     no    NaN  NOT LEGAL\n",
      "4604      4  1975  19    male  white     no    NaN      legal\n",
      "4605      5  1975  28    male  white     no    NaN      legal\n",
      "...     ...   ...  ..     ...    ...    ...    ...        ...\n",
      "27774  1510  1991  70  female  white     no    NaN  NOT LEGAL\n",
      "27777  1513  1991  35    male  white     no    NaN  NOT LEGAL\n",
      "27779  1515  1991  30    male  white     no    NaN  NOT LEGAL\n",
      "27780  1516  1991  70    male  white    yes    yes  NOT LEGAL\n",
      "27781  1517  1991  47  female  white     no    NaN  NOT LEGAL\n",
      "\n",
      "[2472 rows x 8 columns]>\n"
     ]
    }
   ],
   "source": [
    "df = df.loc[df['memvet'].notnull()]\n",
    "print(df.head)"
   ]
  },
  {
   "cell_type": "code",
   "execution_count": 29,
   "metadata": {},
   "outputs": [
    {
     "name": "stdout",
     "output_type": "stream",
     "text": [
      "<bound method NDFrame.head of          id  year age     sex   race memvet   owngun      grass\n",
      "26266     2  1991  32  female  white     no       no      legal\n",
      "26268     4  1991  26  female  white     no       no      legal\n",
      "26271     7  1991  46    male  black     no      yes      legal\n",
      "26273     9  1991  57  female  black     no       no  NOT LEGAL\n",
      "26279    15  1991  33  female  white     no       no        NaN\n",
      "...     ...   ...  ..     ...    ...    ...      ...        ...\n",
      "27761  1497  1991  56  female  white     no  refused  NOT LEGAL\n",
      "27764  1500  1991  73  female  white     no      yes  NOT LEGAL\n",
      "27769  1505  1991  66  female  white     no      yes      legal\n",
      "27773  1509  1991  22    male  white     no      yes  NOT LEGAL\n",
      "27780  1516  1991  70    male  white    yes      yes  NOT LEGAL\n",
      "\n",
      "[486 rows x 8 columns]>\n"
     ]
    }
   ],
   "source": [
    "df = df.loc[df['owngun'].notnull()]\n",
    "print(df.head)"
   ]
  },
  {
   "cell_type": "code",
   "execution_count": 30,
   "metadata": {},
   "outputs": [
    {
     "name": "stdout",
     "output_type": "stream",
     "text": [
      "<bound method NDFrame.head of          id  year age     sex   race memvet   owngun      grass\n",
      "26266     2  1991  32  female  white     no       no      legal\n",
      "26268     4  1991  26  female  white     no       no      legal\n",
      "26271     7  1991  46    male  black     no      yes      legal\n",
      "26273     9  1991  57  female  black     no       no  NOT LEGAL\n",
      "26279    15  1991  33  female  white     no       no        NaN\n",
      "...     ...   ...  ..     ...    ...    ...      ...        ...\n",
      "27761  1497  1991  56  female  white     no  refused  NOT LEGAL\n",
      "27764  1500  1991  73  female  white     no      yes  NOT LEGAL\n",
      "27769  1505  1991  66  female  white     no      yes      legal\n",
      "27773  1509  1991  22    male  white     no      yes  NOT LEGAL\n",
      "27780  1516  1991  70    male  white    yes      yes  NOT LEGAL\n",
      "\n",
      "[486 rows x 8 columns]>\n"
     ]
    }
   ],
   "source": [
    "f = df.loc[df['grass'].notnull()]\n",
    "print(df.head)"
   ]
  },
  {
   "cell_type": "code",
   "execution_count": 16,
   "metadata": {},
   "outputs": [
    {
     "name": "stdout",
     "output_type": "stream",
     "text": [
      "<bound method NDFrame.head of Empty DataFrame\n",
      "Columns: [id, year, age, sex, race, milwrknw, owngun, grass]\n",
      "Index: []>\n"
     ]
    }
   ],
   "source": [
    "print(df.head)"
   ]
  },
  {
   "cell_type": "markdown",
   "metadata": {},
   "source": [
    "# Step 3\n",
    "\n",
    "Visualize at least two quantiative relationships or patterns: these might include connections between clear numerical values, such as age and income, or more complex visualizations based on boolean data (for example, our \"yes\" and \"no\" to reading fiction.)"
   ]
  },
  {
   "cell_type": "code",
   "execution_count": 41,
   "metadata": {},
   "outputs": [
    {
     "name": "stdout",
     "output_type": "stream",
     "text": [
      "26708    1\n",
      "27728    0\n",
      "26953    0\n",
      "26787    0\n",
      "26746    0\n",
      "26814    0\n",
      "26392    0\n",
      "27411    0\n",
      "26519    0\n",
      "26825    1\n",
      "Name: memvet, dtype: int64\n",
      "Mean: 0.2\n",
      "Median: 0.0\n"
     ]
    }
   ],
   "source": [
    "readfict_sample = df.loc[df['owngun'].notnull()].sample(10)['memvet']\n",
    "readfict_sample = readfict_sample.replace(['no', 'yes'], [0, 1])\n",
    "print(readfict_sample)\n",
    "\n",
    "print(\"Mean:\", readfict_sample.mean())\n",
    "print(\"Median:\", readfict_sample.median())"
   ]
  },
  {
   "cell_type": "markdown",
   "metadata": {},
   "source": [
    "Group the data using at least two different divisions to spot interesting trends, and plot at least one variance across a group (refer to our example of happiness among fiction readers as a starting point.)"
   ]
  }
 ],
 "metadata": {
  "interpreter": {
   "hash": "384b16392d5df87b45fa68fd804fdd570b449e149e441c1270eb35604a8982f7"
  },
  "kernelspec": {
   "display_name": "Python 3.7.6 64-bit (conda)",
   "name": "python3"
  },
  "language_info": {
   "codemirror_mode": {
    "name": "ipython",
    "version": 3
   },
   "file_extension": ".py",
   "mimetype": "text/x-python",
   "name": "python",
   "nbconvert_exporter": "python",
   "pygments_lexer": "ipython3",
   "version": "3.7.6"
  },
  "orig_nbformat": 4
 },
 "nbformat": 4,
 "nbformat_minor": 2
}
