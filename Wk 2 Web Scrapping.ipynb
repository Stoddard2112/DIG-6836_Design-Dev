{
 "cells": [
  {
   "cell_type": "code",
   "execution_count": 1,
   "source": [
    "# boiler plate code - set up convos with urs using a library\r\n",
    "import urllib.request, urllib.error, urllib.parse\r\n",
    "\r\n",
    "# setting up url - replace me!\r\n",
    "url = 'https://github.com/AMSUCF/Critical-Making-Syllabus/blob/main/syllabus.md'\r\n",
    "\r\n",
    "# boilerplate code for requesting a webpage using url\r\n",
    "response = urllib.request.urlopen(url)\r\n",
    "webContent = response.read()\r\n",
    "\r\n",
    "print(webContent[0:1000])"
   ],
   "outputs": [
    {
     "output_type": "stream",
     "name": "stdout",
     "text": [
      "b'\\n\\n\\n\\n\\n\\n<!DOCTYPE html>\\n<html lang=\"en\" data-color-mode=\"auto\" data-light-theme=\"light\" data-dark-theme=\"dark\">\\n  <head>\\n    <meta charset=\"utf-8\">\\n  <link rel=\"dns-prefetch\" href=\"https://github.githubassets.com\">\\n  <link rel=\"dns-prefetch\" href=\"https://avatars.githubusercontent.com\">\\n  <link rel=\"dns-prefetch\" href=\"https://github-cloud.s3.amazonaws.com\">\\n  <link rel=\"dns-prefetch\" href=\"https://user-images.githubusercontent.com/\">\\n  <link rel=\"preconnect\" href=\"https://github.githubassets.com\" crossorigin>\\n  <link rel=\"preconnect\" href=\"https://avatars.githubusercontent.com\">\\n\\n\\n\\n  <link crossorigin=\"anonymous\" media=\"all\" integrity=\"sha512-OK6IZWlYcNCIf6IuE5bGqAXE7k29nTS+lmNILcaRxHusCPjgNy/6WsKt8fSsrKwZZX7zZjYxlYn1guNNXcnjHA==\" rel=\"stylesheet\" href=\"https://github.githubassets.com/assets/frameworks-38ae8865695870d0887fa22e1396c6a8.css\" />\\n  \\n    <link crossorigin=\"anonymous\" media=\"all\" integrity=\"sha512-rH3jwTfJlLZ2j1L4jnv6sppMywy4JaloAXvf+U6XXkc/TpZ4mYq/1Ag516A3BW759gOkL/nlKXRHs5x'\n"
     ]
    }
   ],
   "metadata": {}
  },
  {
   "cell_type": "code",
   "execution_count": null,
   "source": [
    "url = 'https://github.com/AMSUCF/Critical-Making-Syllabus/blob/main/syllabus.md'\r\n",
    "\r\n",
    "response = urllib.request.urlopen(url)\r\n",
    "webContent = response.read()\r\n",
    "\r\n",
    "f = open('demosyllabus.html', 'wb')\r\n",
    "f.write(webContent)\r\n",
    "f.close()"
   ],
   "outputs": [],
   "metadata": {}
  }
 ],
 "metadata": {
  "kernelspec": {
   "display_name": "Python 3",
   "language": "python",
   "name": "python3"
  },
  "language_info": {
   "codemirror_mode": {
    "name": "ipython",
    "version": 3
   },
   "file_extension": ".py",
   "mimetype": "text/x-python",
   "name": "python",
   "nbconvert_exporter": "python",
   "pygments_lexer": "ipython3",
   "version": "3.8.3"
  }
 },
 "nbformat": 4,
 "nbformat_minor": 4
}