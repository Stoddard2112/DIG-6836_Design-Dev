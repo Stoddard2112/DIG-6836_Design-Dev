{
 "cells": [
  {
   "cell_type": "code",
   "execution_count": 1,
   "source": [
    "# Conditionals are how comps make decisions, how to make a decision and what to do about it\r\n",
    "x = 2\r\n",
    "y = 3\r\n",
    "name = \"Fred\"\r\n",
    "age = 35\r\n",
    "print(x == y)\r\n",
    "print(x == 2)\r\n",
    "print(x < y)"
   ],
   "outputs": [
    {
     "output_type": "stream",
     "name": "stdout",
     "text": [
      "False\n",
      "True\n",
      "True\n"
     ]
    }
   ],
   "metadata": {}
  },
  {
   "cell_type": "code",
   "execution_count": 2,
   "source": [
    "# Demo of Conditionals with the FLinstones\r\n",
    "# These are arrays with our defs of what is in the array, all with in the array is read as a string\r\n",
    "flintstones = [\"Fred\",\"Wilma\",\"Pebbles\",\"Dino\"]\r\n",
    "rubbles = [\"Barney\",\"Betty\",\"Bamm-Bamm\",\"Hoppy\"]\r\n",
    "# Simple comparrison, checks two conditions, only true if both are true, in this case to be true must be wilma and 35\r\n",
    "if name == \"Wilma\" and age == 35:\r\n",
    "    print(\"Wilma verified.\")\r\n",
    "# Checks two conditions and is true if one item is true\r\n",
    "if name == \"Wilma\" or age == 35:\r\n",
    "    print(\"Possibly Wilma.\")\r\n",
    "# The next three commands work together as follows:\r\n",
    "# Check if name exisits in an array, true if it does\r\n",
    "# if name isn't in flintstones, check rubbles\r\n",
    "# if not found there, prnt that it is not found, it's not a character\r\n",
    "if name in flintstones:\r\n",
    "    print(\"Found Flintstone.\")\r\n",
    "elif name in rubbles:\r\n",
    "    print(\"Found Rubble.\")\r\n",
    "else:\r\n",
    "    print(\"Not a character.\")"
   ],
   "outputs": [
    {
     "output_type": "stream",
     "name": "stdout",
     "text": [
      "Possibly Wilma.\n",
      "Found Flintstone.\n"
     ]
    }
   ],
   "metadata": {}
  },
  {
   "cell_type": "code",
   "execution_count": 4,
   "source": [
    "name = \"Barney\"\r\n",
    "age = 23\r\n",
    "\r\n",
    "rubble = name in rubbles\r\n",
    "print(rubble)\r\n",
    "print(not rubble)"
   ],
   "outputs": [
    {
     "output_type": "stream",
     "name": "stdout",
     "text": [
      "True\n",
      "False\n"
     ]
    }
   ],
   "metadata": {}
  },
  {
   "cell_type": "code",
   "execution_count": null,
   "source": [],
   "outputs": [],
   "metadata": {}
  }
 ],
 "metadata": {
  "kernelspec": {
   "display_name": "Python 3",
   "language": "python",
   "name": "python3"
  },
  "language_info": {
   "codemirror_mode": {
    "name": "ipython",
    "version": 3
   },
   "file_extension": ".py",
   "mimetype": "text/x-python",
   "name": "python",
   "nbconvert_exporter": "python",
   "pygments_lexer": "ipython3",
   "version": "3.8.3"
  }
 },
 "nbformat": 4,
 "nbformat_minor": 4
}