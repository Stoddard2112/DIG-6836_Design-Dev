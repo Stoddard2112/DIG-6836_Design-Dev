{
 "cells": [
  {
   "cell_type": "code",
   "execution_count": 2,
   "source": [
    "# Regular Expressions: https://docs.python.org/3/library/re.html#re.Pattern.match\r\n",
    "# Using re to count words on a web page\r\n",
    "\r\n",
    "# Def the function, telling it what you're callin up.\r\n",
    "def preprocess_text(filename):\r\n",
    "    # Opens the file and reads it\r\n",
    "    f = open(filename, 'r')\r\n",
    "    # Places what read into a local variable named text\r\n",
    "    text = f.read()\r\n",
    "    # Closes file\r\n",
    "    f.close()\r\n",
    "    # Converts all text to lower case for easier word counting\r\n",
    "    text = text.lower()\r\n",
    "    # Importing regular expressions\r\n",
    "    import re\r\n",
    "    # MAgic most complicated line.  Hands back object to main program.  Takes ina file name and gives backa bag of words.\r\n",
    "    return re.compile(r'\\W+', re.UNICODE).split(text)\r\n",
    "# This stores what the above function created\r\n",
    "word_bag = preprocess_text('CEx3_FMJ.txt')\r\n",
    "# Prints a smaple of the above created file from above function.\r\n",
    "print(word_bag[0:100])"
   ],
   "outputs": [
    {
     "output_type": "stream",
     "name": "stdout",
     "text": [
      "['andrew', 'pollard', 'r', 'n', 'r', 'n', 'r', 'n', 'r', 'n', 'r', 'n', 'r', 'n', 'starburst', 'r', 'n', 'r', 'n', 'r', 'n', 'r', 'n', 'r', 'n', 'r', 'n', 'r', 'n', 'r', 'n', 'r', 'n', 'r', 'n', 'r', 'n', 'r', 'n', 'r', 'n', 'r', 'n', 'r', 'n', 'sep', '24', '2020', 'r', 'n', 'r', 'n', 'r', 'n', 'r', 'n', 'a', 'hard', 'hitting', 'movie', 'laced', 'with', 'moments', 'of', 'dark', 'humour', 'and', 'brimming', 'with', 'social', 'commentary', 'full', 'metal', 'jacket', 'is', 'viewed', 'as', 'one', 'of', 'the', 'all', 'time', 'great', 'war', 'movie', 'r', 'n', 'r', 'n', 'r', 'n', 'r', 'n', 'r', 'n', 'r', 'n', 'r', 'n', 'r']\n"
     ]
    }
   ],
   "metadata": {}
  },
  {
   "cell_type": "code",
   "execution_count": 3,
   "source": [
    "# This loop counts the words.  How many times does this particualr word appear in text. \r\n",
    "\r\n",
    "# Creats an array to hold frequencies.  The count of each word in the order it appears. \r\n",
    "word_freq = []\r\n",
    "# Loop through every word in dataset,  Redundancy is ok here.  Talks to every word in word bag.\r\n",
    "for word in word_bag:\r\n",
    "    # This creats two arrays, one with location of word and two the number of times.\r\n",
    "    #count how many times the owrd appears in the whole bag of word then save that count at the same spot in line. (same index as the word_bag in the word_freq)  Like an excel spread sheet of data\r\n",
    "    word_freq.append(word_bag.count(word))\r\n",
    "# Shows us the count of each word in order\r\n",
    "print(\"Frequencies: \" + str(word_freq[0:100]))\r\n",
    "# zip (take things and put them together) the two lists, so that the parts are connected. \r\n",
    "print(\"Pairs: \" + str(list(zip(word_bag[0:100],word_freq[0:100]))))"
   ],
   "outputs": [
    {
     "output_type": "stream",
     "name": "stdout",
     "text": [
      "Frequencies: [1, 1, 1054, 1054, 1054, 1054, 1054, 1054, 1054, 1054, 1054, 1054, 1054, 1054, 1, 1054, 1054, 1054, 1054, 1054, 1054, 1054, 1054, 1054, 1054, 1054, 1054, 1054, 1054, 1054, 1054, 1054, 1054, 1054, 1054, 1054, 1054, 1054, 1054, 1054, 1054, 1054, 1054, 1054, 1054, 4, 2, 5, 1054, 1054, 1054, 1054, 1054, 1054, 1054, 1054, 16, 1, 1, 3, 1, 4, 2, 14, 1, 1, 11, 1, 4, 1, 1, 25, 7, 7, 13, 1, 7, 5, 14, 16, 2, 1, 3, 8, 3, 1054, 1054, 1054, 1054, 1054, 1054, 1054, 1054, 1054, 1054, 1054, 1054, 1054, 1054, 1054]\n",
      "Pairs: [('andrew', 1), ('pollard', 1), ('r', 1054), ('n', 1054), ('r', 1054), ('n', 1054), ('r', 1054), ('n', 1054), ('r', 1054), ('n', 1054), ('r', 1054), ('n', 1054), ('r', 1054), ('n', 1054), ('starburst', 1), ('r', 1054), ('n', 1054), ('r', 1054), ('n', 1054), ('r', 1054), ('n', 1054), ('r', 1054), ('n', 1054), ('r', 1054), ('n', 1054), ('r', 1054), ('n', 1054), ('r', 1054), ('n', 1054), ('r', 1054), ('n', 1054), ('r', 1054), ('n', 1054), ('r', 1054), ('n', 1054), ('r', 1054), ('n', 1054), ('r', 1054), ('n', 1054), ('r', 1054), ('n', 1054), ('r', 1054), ('n', 1054), ('r', 1054), ('n', 1054), ('sep', 4), ('24', 2), ('2020', 5), ('r', 1054), ('n', 1054), ('r', 1054), ('n', 1054), ('r', 1054), ('n', 1054), ('r', 1054), ('n', 1054), ('a', 16), ('hard', 1), ('hitting', 1), ('movie', 3), ('laced', 1), ('with', 4), ('moments', 2), ('of', 14), ('dark', 1), ('humour', 1), ('and', 11), ('brimming', 1), ('with', 4), ('social', 1), ('commentary', 1), ('full', 25), ('metal', 7), ('jacket', 7), ('is', 13), ('viewed', 1), ('as', 7), ('one', 5), ('of', 14), ('the', 16), ('all', 2), ('time', 1), ('great', 3), ('war', 8), ('movie', 3), ('r', 1054), ('n', 1054), ('r', 1054), ('n', 1054), ('r', 1054), ('n', 1054), ('r', 1054), ('n', 1054), ('r', 1054), ('n', 1054), ('r', 1054), ('n', 1054), ('r', 1054), ('n', 1054), ('r', 1054)]\n"
     ]
    }
   ],
   "metadata": {}
  }
 ],
 "metadata": {
  "orig_nbformat": 4,
  "language_info": {
   "name": "python",
   "version": "3.7.6",
   "mimetype": "text/x-python",
   "codemirror_mode": {
    "name": "ipython",
    "version": 3
   },
   "pygments_lexer": "ipython3",
   "nbconvert_exporter": "python",
   "file_extension": ".py"
  },
  "kernelspec": {
   "name": "python3",
   "display_name": "Python 3.7.6 64-bit (conda)"
  },
  "interpreter": {
   "hash": "384b16392d5df87b45fa68fd804fdd570b449e149e441c1270eb35604a8982f7"
  }
 },
 "nbformat": 4,
 "nbformat_minor": 2
}